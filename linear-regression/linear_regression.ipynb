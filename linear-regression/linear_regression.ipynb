{
 "cells": [
  {
   "cell_type": "markdown",
   "metadata": {},
   "source": [
    "# 线性回归：模型之母\n",
    "\n",
    "**线性回归是所有模型的基石。**为了探讨研究玩偶数量与生成成本之间的关系，分别从机器学习和统计学的角度，对这个问题探索求解。"
   ]
  },
  {
   "cell_type": "code",
   "execution_count": 41,
   "metadata": {},
   "outputs": [
    {
     "name": "stderr",
     "output_type": "stream",
     "text": [
      "C:\\Users\\YiMin\\AppData\\Local\\conda\\conda\\envs\\py27\\lib\\site-packages\\statsmodels\\compat\\pandas.py:56: FutureWarning: The pandas.core.datetools module is deprecated and will be removed in a future version. Please use the pandas.tseries module instead.\n",
      "  from pandas.core import datetools\n"
     ]
    }
   ],
   "source": [
    "import sys,os\n",
    "\n",
    "import numpy as np\n",
    "import pandas as pd\n",
    "from sklearn import linear_model\n",
    "import matplotlib.pyplot as plt\n",
    "import statsmodels.api as sm"
   ]
  },
  {
   "cell_type": "code",
   "execution_count": 14,
   "metadata": {},
   "outputs": [
    {
     "data": {
      "text/html": [
       "<div>\n",
       "<style>\n",
       "    .dataframe thead tr:only-child th {\n",
       "        text-align: right;\n",
       "    }\n",
       "\n",
       "    .dataframe thead th {\n",
       "        text-align: left;\n",
       "    }\n",
       "\n",
       "    .dataframe tbody tr th {\n",
       "        vertical-align: top;\n",
       "    }\n",
       "</style>\n",
       "<table border=\"1\" class=\"dataframe\">\n",
       "  <thead>\n",
       "    <tr style=\"text-align: right;\">\n",
       "      <th></th>\n",
       "      <th>x</th>\n",
       "      <th>y</th>\n",
       "    </tr>\n",
       "  </thead>\n",
       "  <tbody>\n",
       "    <tr>\n",
       "      <th>count</th>\n",
       "      <td>20.000000</td>\n",
       "      <td>20.000000</td>\n",
       "    </tr>\n",
       "    <tr>\n",
       "      <th>mean</th>\n",
       "      <td>18.550000</td>\n",
       "      <td>18.212000</td>\n",
       "    </tr>\n",
       "    <tr>\n",
       "      <th>std</th>\n",
       "      <td>5.835238</td>\n",
       "      <td>6.144293</td>\n",
       "    </tr>\n",
       "    <tr>\n",
       "      <th>min</th>\n",
       "      <td>10.000000</td>\n",
       "      <td>7.700000</td>\n",
       "    </tr>\n",
       "    <tr>\n",
       "      <th>25%</th>\n",
       "      <td>13.750000</td>\n",
       "      <td>13.702500</td>\n",
       "    </tr>\n",
       "    <tr>\n",
       "      <th>50%</th>\n",
       "      <td>18.500000</td>\n",
       "      <td>18.290000</td>\n",
       "    </tr>\n",
       "    <tr>\n",
       "      <th>75%</th>\n",
       "      <td>23.250000</td>\n",
       "      <td>22.677500</td>\n",
       "    </tr>\n",
       "    <tr>\n",
       "      <th>max</th>\n",
       "      <td>28.000000</td>\n",
       "      <td>28.210000</td>\n",
       "    </tr>\n",
       "  </tbody>\n",
       "</table>\n",
       "</div>"
      ],
      "text/plain": [
       "               x          y\n",
       "count  20.000000  20.000000\n",
       "mean   18.550000  18.212000\n",
       "std     5.835238   6.144293\n",
       "min    10.000000   7.700000\n",
       "25%    13.750000  13.702500\n",
       "50%    18.500000  18.290000\n",
       "75%    23.250000  22.677500\n",
       "max    28.000000  28.210000"
      ]
     },
     "execution_count": 14,
     "metadata": {},
     "output_type": "execute_result"
    }
   ],
   "source": [
    "data = pd.read_csv('./data/simple_example.csv',header=0)\n",
    "data.head()\n",
    "data.describe()"
   ]
  },
  {
   "cell_type": "code",
   "execution_count": 39,
   "metadata": {
    "scrolled": false
   },
   "outputs": [
    {
     "data": {
      "image/png": "[encoded data removed]",
      "text/plain": [
       "<matplotlib.figure.Figure at 0xbfe7b70>"
      ]
     },
     "metadata": {},
     "output_type": "display_data"
    }
   ],
   "source": [
    "# 为在Matplotlib中显示中文，设置特殊字体\n",
    "plt.rcParams[\"font.sans-serif\"]=[\"SimHei\"]\n",
    "# 创建一个图形框，在里面只画一幅图\n",
    "fig = plt.figure(figsize=(6, 6), dpi=80)\n",
    "ax = fig.add_subplot(111)\n",
    "# 在Matplotlib中显示中文，需要使用unicode\n",
    "# 在Python3中，str不需要decode\n",
    "ax.set_title(\"%s\" % \"线性回归示例\".decode(\"utf-8\"))\n",
    "ax.set_xlabel(\"生产成本 $x$\".decode(\"utf-8\"))\n",
    "ax.set_xticks(range(10, 31, 5))\n",
    "ax.set_ylabel(\"玩偶数量 $y$\".decode(\"utf-8\"))\n",
    "ax.set_yticks(range(10, 31, 5))\n",
    "# 画点图，点的颜色为蓝色\n",
    "ax.scatter(data.x, data.y, color=\"b\", label=\"$y = x + \\epsilon$\")\n",
    "legend = plt.legend(shadow=True)\n",
    "plt.show()"
   ]
  },
  {
   "cell_type": "markdown",
   "metadata": {},
   "source": [
    "根据图像可以看出，生成成本与玩偶数量并呈一条严格的直线，而是在某条直线上下波动。可以用公式"
   ]
  },
  {
   "cell_type": "markdown",
   "metadata": {},
   "source": [
    "## 1. 从机器学习的角度\n",
    "\n",
    "### 1.1 确定场景类型\n",
    "\n",
    "(1) 在数据里面以及有需要被模型预测的量：生产成本y，所以这是一个**监督式学习**。\n",
    "\n",
    "(2) 需要被预测的成本$y_i$是一个连续变化的量，而非表示类别的离散量，所以这是一个**回归问题**。"
   ]
  },
  {
   "cell_type": "markdown",
   "metadata": {},
   "source": [
    "### 1.2 模型的实现\n",
    "#### 1.2.1 划分数据集：将数据划分为训练数据集和测试数据集。\n",
    "\n",
    "#### 1.2.2 利用训练数据集训练模型，估计模型参数。\n",
    "(1) 定义损失函数：$ L = \\sum_{i} (y_i - \\hat {y_i})^2$\n",
    "\n",
    "(2) 提取特征\n",
    "\n",
    "(3) 确定使用线性模型形式并估计参数\n",
    "\n",
    "模型定义的公式：$$ \\hat {y_i} = ax_i + b$$\n",
    "\n",
    "式中，a表示生产一个玩偶的变动成本，b表示生产的固定成本。\n",
    "\n",
    "参数$(a, b)$的估计值$(\\hat {a}, \\hat{b})$将使损失函数L达到最小值，即：\n",
    "$$(\\hat {a}, \\hat{b}) = argmin_{a, b} \\sum_i(y_i - ax_i - b)^2$$\n",
    "\n",
    "(4) 评估模型效果\n",
    "\n",
    "* 从预测的角度看，我们希望模型的预测成本越接近真是成本越好。所以，定义线性模型的均方差（Mean Square Error, MSE）。均方差越小，模型的效果越好。\n",
    "$$ MSE = \\frac{1}{n} \\sum_{i=1}^n (y_i - \\hat {y_i})^2 = \\frac{1}{n} L$$\n",
    "\n",
    "* 从解释数据的角度看，我们希望模型能最大程度地解释成本变化的原因。所以定义线性模型的决定系数（coefficient of determination），通常记为$R^2$。\n",
    "\n",
    "$$ \\bar y  = \\frac{1}{n} \\sum_{i=1}^n y_i$$\n",
    "成本变化（因变量的方差）：$$ SS_{tot} = \\sum_{i=1}^n (y_i - \\bar y)^2$$\n",
    "未被模型解释的成本：$$ SS_{res} = \\sum_{i=1}^n (\\hat y_i - y_i)^2$$\n",
    "$$ R^2  = 1 - \\frac{SS_{res}}{SS_{tot}}$$"
   ]
  },
  {
   "cell_type": "code",
   "execution_count": 22,
   "metadata": {},
   "outputs": [],
   "source": [
    "trainData, testData = data[:15],data[15:]"
   ]
  },
  {
   "cell_type": "code",
   "execution_count": 23,
   "metadata": {
    "scrolled": true
   },
   "outputs": [
    {
     "data": {
      "text/plain": [
       "LinearRegression(copy_X=True, fit_intercept=True, n_jobs=1, normalize=False)"
      ]
     },
     "execution_count": 23,
     "metadata": {},
     "output_type": "execute_result"
    }
   ],
   "source": [
    "model = linear_model.LinearRegression()\n",
    "model.fit(trainData[['x']], trainData[['y']])"
   ]
  },
  {
   "cell_type": "markdown",
   "metadata": {},
   "source": [
    "#### 1.2.3 利用测试数集评价模型，计算对应的均方差和决定系数"
   ]
  },
  {
   "cell_type": "code",
   "execution_count": 34,
   "metadata": {},
   "outputs": [
    {
     "name": "stdout",
     "output_type": "stream",
     "text": [
      "(y    0.726189\n",
      "dtype: float64, 0.82843020732172779)\n"
     ]
    }
   ],
   "source": [
    "error = np.mean((model.predict(testData[['x']])-testData[['y']])**2)\n",
    "score = model.score(testData[['x']],testData[['y']])\n",
    "print(error, score)"
   ]
  },
  {
   "cell_type": "code",
   "execution_count": 32,
   "metadata": {},
   "outputs": [
    {
     "data": {
      "image/png": "[encoded data removed]",
      "text/plain": [
       "<matplotlib.figure.Figure at 0xc029978>"
      ]
     },
     "metadata": {},
     "output_type": "display_data"
    }
   ],
   "source": [
    "# 为在Matplotlib中显示中文，设置特殊字体\n",
    "plt.rcParams[\"font.sans-serif\"]=[\"SimHei\"]\n",
    "# 创建一个图形框，在里面只画一幅图\n",
    "fig = plt.figure(figsize=(6, 6), dpi=80)\n",
    "ax = fig.add_subplot(111)\n",
    "# 在Matplotlib中显示中文，需要使用unicode\n",
    "# 在Python3中，str不需要decode\n",
    "ax.set_title(\"%s\" % \"线性回归模型\".decode(\"utf-8\"))\n",
    "ax.set_xlabel(\"$x$\")\n",
    "ax.set_xticks(range(10, 31, 5))\n",
    "ax.set_ylabel(\"$y$\")\n",
    "ax.set_yticks(range(10, 31, 5))\n",
    "# 画点图，点的颜色为蓝色\n",
    "ax.scatter(data.x, data.y, color=\"b\", label=\"$y = x + \\epsilon$\")\n",
    "if model.intercept_ > 0:\n",
    "    ax.plot(data[['x']], model.predict(data[['x']]), color='r',label=u'%s: $y = %.3fx$ + %.3f'\\\n",
    "        % (\"预测值\".decode(\"utf-8\"), model.coef_, model.intercept_))\n",
    "else:\n",
    "    ax.plot(data[['x']], model.predict(data[['x']]), color='r',label=u'%s: $y = %.3fx$ - %.3f'\\\n",
    "        % (\"预测值\".decode(\"utf-8\"), model.coef_, abs(model.intercept_)))\n",
    "legend = plt.legend(shadow=True)\n",
    "plt.show()"
   ]
  },
  {
   "cell_type": "markdown",
   "metadata": {},
   "source": [
    "## 2. 从统计学的角度出发"
   ]
  },
  {
   "cell_type": "code",
   "execution_count": 52,
   "metadata": {},
   "outputs": [
    {
     "data": {
      "text/html": [
       "<table class=\"simpletable\">\n",
       "<caption>OLS Regression Results</caption>\n",
       "<tr>\n",
       "  <th>Dep. Variable:</th>            <td>y</td>        <th>  R-squared:         </th> <td>   0.962</td>\n",
       "</tr>\n",
       "<tr>\n",
       "  <th>Model:</th>                   <td>OLS</td>       <th>  Adj. R-squared:    </th> <td>   0.960</td>\n",
       "</tr>\n",
       "<tr>\n",
       "  <th>Method:</th>             <td>Least Squares</td>  <th>  F-statistic:       </th> <td>   460.5</td>\n",
       "</tr>\n",
       "<tr>\n",
       "  <th>Date:</th>             <td>Sun, 04 Nov 2018</td> <th>  Prob (F-statistic):</th> <td>2.85e-14</td>\n",
       "</tr>\n",
       "<tr>\n",
       "  <th>Time:</th>                 <td>21:09:05</td>     <th>  Log-Likelihood:    </th> <td> -31.374</td>\n",
       "</tr>\n",
       "<tr>\n",
       "  <th>No. Observations:</th>      <td>    20</td>      <th>  AIC:               </th> <td>   66.75</td>\n",
       "</tr>\n",
       "<tr>\n",
       "  <th>Df Residuals:</th>          <td>    18</td>      <th>  BIC:               </th> <td>   68.74</td>\n",
       "</tr>\n",
       "<tr>\n",
       "  <th>Df Model:</th>              <td>     1</td>      <th>                     </th>     <td> </td>   \n",
       "</tr>\n",
       "<tr>\n",
       "  <th>Covariance Type:</th>      <td>nonrobust</td>    <th>                     </th>     <td> </td>   \n",
       "</tr>\n",
       "</table>\n",
       "<table class=\"simpletable\">\n",
       "<tr>\n",
       "    <td></td>       <th>coef</th>     <th>std err</th>      <th>t</th>      <th>P>|t|</th>  <th>[0.025</th>    <th>0.975]</th>  \n",
       "</tr>\n",
       "<tr>\n",
       "  <th>const</th> <td>   -0.9495</td> <td>    0.934</td> <td>   -1.017</td> <td> 0.323</td> <td>   -2.912</td> <td>    1.013</td>\n",
       "</tr>\n",
       "<tr>\n",
       "  <th>x</th>     <td>    1.0330</td> <td>    0.048</td> <td>   21.458</td> <td> 0.000</td> <td>    0.932</td> <td>    1.134</td>\n",
       "</tr>\n",
       "</table>\n",
       "<table class=\"simpletable\">\n",
       "<tr>\n",
       "  <th>Omnibus:</th>       <td> 0.745</td> <th>  Durbin-Watson:     </th> <td>   2.345</td>\n",
       "</tr>\n",
       "<tr>\n",
       "  <th>Prob(Omnibus):</th> <td> 0.689</td> <th>  Jarque-Bera (JB):  </th> <td>   0.673</td>\n",
       "</tr>\n",
       "<tr>\n",
       "  <th>Skew:</th>          <td> 0.074</td> <th>  Prob(JB):          </th> <td>   0.714</td>\n",
       "</tr>\n",
       "<tr>\n",
       "  <th>Kurtosis:</th>      <td> 2.113</td> <th>  Cond. No.          </th> <td>    66.3</td>\n",
       "</tr>\n",
       "</table>"
      ],
      "text/plain": [
       "<class 'statsmodels.iolib.summary.Summary'>\n",
       "\"\"\"\n",
       "                            OLS Regression Results                            \n",
       "==============================================================================\n",
       "Dep. Variable:                      y   R-squared:                       0.962\n",
       "Model:                            OLS   Adj. R-squared:                  0.960\n",
       "Method:                 Least Squares   F-statistic:                     460.5\n",
       "Date:                Sun, 04 Nov 2018   Prob (F-statistic):           2.85e-14\n",
       "Time:                        21:09:05   Log-Likelihood:                -31.374\n",
       "No. Observations:                  20   AIC:                             66.75\n",
       "Df Residuals:                      18   BIC:                             68.74\n",
       "Df Model:                           1                                         \n",
       "Covariance Type:            nonrobust                                         \n",
       "==============================================================================\n",
       "                 coef    std err          t      P>|t|      [0.025      0.975]\n",
       "------------------------------------------------------------------------------\n",
       "const         -0.9495      0.934     -1.017      0.323      -2.912       1.013\n",
       "x              1.0330      0.048     21.458      0.000       0.932       1.134\n",
       "==============================================================================\n",
       "Omnibus:                        0.745   Durbin-Watson:                   2.345\n",
       "Prob(Omnibus):                  0.689   Jarque-Bera (JB):                0.673\n",
       "Skew:                           0.074   Prob(JB):                        0.714\n",
       "Kurtosis:                       2.113   Cond. No.                         66.3\n",
       "==============================================================================\n",
       "\n",
       "Warnings:\n",
       "[1] Standard Errors assume that the covariance matrix of the errors is correctly specified.\n",
       "\"\"\""
      ]
     },
     "execution_count": 52,
     "metadata": {},
     "output_type": "execute_result"
    }
   ],
   "source": [
    "# 加入常量变量\n",
    "# sm.add_constant(data[['x']])\n",
    "\n",
    "model = sm.OLS(data[['y']], data[['x']])\n",
    "re = model.fit()\n",
    "re.summary()"
   ]
  },
  {
   "cell_type": "code",
   "execution_count": null,
   "metadata": {},
   "outputs": [],
   "source": []
  }
 ],
 "metadata": {
  "kernelspec": {
   "display_name": "Python 2",
   "language": "python",
   "name": "python2"
  },
  "language_info": {
   "codemirror_mode": {
    "name": "ipython",
    "version": 2
   },
   "file_extension": ".py",
   "mimetype": "text/x-python",
   "name": "python",
   "nbconvert_exporter": "python",
   "pygments_lexer": "ipython2",
   "version": "2.7.13"
  }
 },
 "nbformat": 4,
 "nbformat_minor": 2
}
