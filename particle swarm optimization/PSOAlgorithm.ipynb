{
 "cells": [
  {
   "cell_type": "markdown",
   "metadata": {},
   "source": [
    "# 粒子群算法"
   ]
  },
  {
   "cell_type": "markdown",
   "metadata": {},
   "source": [
    "## 写在前面\n",
    "\n",
    "粒子群优化算法(Particle swarm optimization, PSO) 是一种进化计算技术（evolutionary computation）。该算法源于对鸟群捕食的行为研究。粒子群优化算法的基本思想：是通过群体中个体之间的协作和信息共享来寻找最优解。\n",
    "\n",
    "鸟被抽象为没有质量和体积的微粒(点)，并延伸到N维空间，粒子i在N维空间的位置表示为矢量Xi＝(x1，x2，…，xN)，飞行速度表示为矢量Vi＝(v1，v2，…，vN)。\n",
    "\n",
    "每个粒子都可以看作问题的一个潜在最优解，用位置、速度和适应度值这三项指标来表征一个粒子。每个粒子都有一个由目标函数决定的适应值(fitness value)，并且知道自己到目前为止发现的最好位置(pBestPos)和现在的位置Xi。这个可以看作是粒子自己的飞行经验。除此之外，每个粒子还知道到目前为止整个群体中所有粒子发现的最好位置(gBestPos)(gBestPos是pBestPos中的最好值)，这个可以看作是粒子同伴的经验。粒子就是通过自己的经验和同伴中最好的经验来决定下一步的运动。 \n",
    "\n",
    "标准PSO算法的流程：\n",
    "\n",
    "     1）初始化一群粒子(群体规模为N)，包括随机位置和速度；\n",
    "     2）评价每个粒子的适应度；\n",
    "     3）对每个粒子，将其适应值与其经过的最好位置pBestPos作比较，如果较好，则将其作为当前的最好位置pBestPos；\n",
    "     4）对每个粒子，将其适应值与其经过的最好位置gBestPos作比较，如果较好，则将其作为当前的最好位置gBestPos；\n",
    "     5）根据公式(2)、(3)调整粒子速度和位置；\n",
    "     6）未达到结束条件则转第2）步。"
   ]
  },
  {
   "cell_type": "code",
   "execution_count": 1,
   "metadata": {},
   "outputs": [],
   "source": [
    "import numpy as np\n",
    "import pandas as pd\n",
    "import math\n",
    "import matplotlib.pyplot as plt\n",
    "from matplotlib import cm\n",
    "from mpl_toolkits.mplot3d import Axes3D"
   ]
  },
  {
   "cell_type": "markdown",
   "metadata": {},
   "source": [
    "## 2.案例分析"
   ]
  },
  {
   "cell_type": "markdown",
   "metadata": {},
   "source": [
    "### 2.1 函数极值问题"
   ]
  },
  {
   "cell_type": "markdown",
   "metadata": {},
   "source": [
    "寻找下列非线性函数在[-2, 2]区间内的极大值\n",
    "$$\n",
    "f(x,y) = \\frac{(sin(\\sqrt{(x^2+y^2)})}{\\sqrt{(x^2+y^2)}}+e^{\\frac{cos2\\pi x+ cos 2\\pi y}{2}}-2.71289\n",
    "$$"
   ]
  },
  {
   "cell_type": "code",
   "execution_count": null,
   "metadata": {},
   "outputs": [],
   "source": [
    "x = np.arange(-2,2,0.1)\n",
    "y = np.arange(-2,2,0.1)\n",
    "X, Y = np.meshgrid(x,y)\n",
    "\n",
    "Z = np.sin(np.sqrt(X**2+Y**2))/np.sqrt(X**2+Y**2)+np.exp((np.cos(2*np.pi*X)+np.cos(2*np.pi*Y))/2)-2.71289\n",
    "\n",
    "fig = plt.figure(figsize=plt.figaspect(0.5))\n",
    "ax = fig.add_subplot(1, 1, 1, projection='3d')\n",
    "surf = ax.plot_surface(X, Y, Z, cmap=cm.viridis, rstride=1, cstride=1, linewidth=0)\n",
    "ax.set_zlim(-2, 1)\n",
    "ax.set_xticks(ticks=[-2,-1,0,1,2])\n",
    "ax.set_yticks(ticks=[-2,-1,0,1,2])\n",
    "plt.show()"
   ]
  },
  {
   "cell_type": "markdown",
   "metadata": {},
   "source": [
    "### 2.1.1 参数设置"
   ]
  },
  {
   "cell_type": "code",
   "execution_count": null,
   "metadata": {},
   "outputs": [],
   "source": [
    "# 惯性权重：w\n",
    "w0 = 0.9\n",
    "\n",
    "# 学习因子或加速因子：lr\n",
    "lr = (0.49445,1.49445)\n",
    "\n",
    "# 最大迭代次数：maxgen\n",
    "maxgen = 300\n",
    "\n",
    "# 种群规模：n \n",
    "n = 50\n",
    "\n",
    "# 粒子的位置和速度的最大最小值：rangePos, rangeV\n",
    "rangePos = (-2*math.pi , 2*math.pi)\n",
    "rangeV = (-0.5,0.5)"
   ]
  },
  {
   "cell_type": "markdown",
   "metadata": {},
   "source": [
    "### 2.1.2 种群初始化"
   ]
  },
  {
   "cell_type": "code",
   "execution_count": null,
   "metadata": {},
   "outputs": [],
   "source": [
    "# 适应度函数\n",
    "def func(x):\n",
    "    # x输入粒子位置\n",
    "    # y 粒子适应度值\n",
    "    if (x[0]==0)&(x[1]==0):\n",
    "        y = np.exp((np.cos(2*np.pi*x[0])+np.cos(2*np.pi*x[1]))/2)-2.71289\n",
    "    else:\n",
    "        y = np.sin(np.sqrt(x[0]**2+x[1]**2))/np.sqrt(x[0]**2+x[1]**2)+np.exp((np.cos(2*np.pi*x[0])+np.cos(2*np.pi*x[1]))/2)-2.71289\n",
    "    return y"
   ]
  },
  {
   "cell_type": "code",
   "execution_count": null,
   "metadata": {},
   "outputs": [],
   "source": [
    "pos = np.zeros((n,2))\n",
    "v = np.zeros((n,2))\n",
    "fitness = np.zeros(n)\n",
    "\n",
    "for i in range(n):\n",
    "    pos[i] = [(np.random.rand()-0.5)*rangePos[0]*2,(np.random.rand()-0.5)*rangePos[1]*2]\n",
    "    v[i] = [(np.random.rand()-0.5)*rangePos[0]*2,(np.random.rand()-0.5)*rangePos[1]*2]\n",
    "    fitness[i] = func(pos[i])"
   ]
  },
  {
   "cell_type": "markdown",
   "metadata": {},
   "source": [
    "### 2.1.3 寻找初始极值"
   ]
  },
  {
   "cell_type": "code",
   "execution_count": null,
   "metadata": {},
   "outputs": [],
   "source": [
    "# 群体最优的粒子位置及其适应度值\n",
    "gBestPos, gBestFitness = pos[fitness.argmax()].copy(), fitness.max()\n",
    "# 粒子的最优位置及其适应度值\n",
    "pBestPos, pBestFitness = pos.copy(), fitness.copy()"
   ]
  },
  {
   "cell_type": "markdown",
   "metadata": {},
   "source": [
    "### 2.1.4 迭代寻优"
   ]
  },
  {
   "cell_type": "code",
   "execution_count": null,
   "metadata": {},
   "outputs": [],
   "source": [
    "result = np.zeros(maxgen)"
   ]
  },
  {
   "cell_type": "code",
   "execution_count": null,
   "metadata": {},
   "outputs": [],
   "source": [
    "for i in range(maxgen):\n",
    "#     w = w0 # 恒定惯性权重\n",
    "#     w = w0 - 0.4*i/maxgen  #线性递减惯性权重\n",
    "    w = w0 - 0.4*(i/maxgen)**2 #递减惯性权重\n",
    "#     w = w0 - 0.4*(2*i/maxgen - (i/maxgen)**2) #递减惯性权重\n",
    "\n",
    "    #速度更新\n",
    "    for j in range(n):\n",
    "        v[j] = w*v[j] + lr[0]*np.random.rand()*(pBestPos[j]-pos[j])+lr[1]*np.random.rand()*(gBestPos-pos[j])\n",
    "    v[v<rangeV[0]] = rangeV[0]\n",
    "    v[v>rangeV[1]] = rangeV[1]\n",
    "\n",
    "    #粒子位置更新\n",
    "    for j in range(n):\n",
    "        pos[j] += v[j]\n",
    "    pos[pos<rangePos[0]] = rangePos[0]\n",
    "    pos[pos>rangePos[1]] = rangePos[1]\n",
    "\n",
    "    #适应度更新\n",
    "    for j in range(n):\n",
    "        fitness[j] = func(pos[j])\n",
    "\n",
    "    for j in range(n):\n",
    "        if fitness[j] > pBestFitness[j]:\n",
    "            pBestFitness[j] = fitness[j]\n",
    "            pBestPos[j] = pos[j].copy()\n",
    "\n",
    "    if pBestFitness.max() > gBestFitness:\n",
    "        gBestFitness = pBestFitness.max()\n",
    "        gBestPos = pos[pBestFitness.argmax()].copy()\n",
    "\n",
    "    result[i] = gBestFitness"
   ]
  },
  {
   "cell_type": "code",
   "execution_count": null,
   "metadata": {},
   "outputs": [],
   "source": [
    "plt.plot(result[:300])\n",
    "plt.show()"
   ]
  },
  {
   "cell_type": "code",
   "execution_count": null,
   "metadata": {},
   "outputs": [],
   "source": [
    "plt.scatter(pos[:,0],pos[:,1])"
   ]
  },
  {
   "cell_type": "code",
   "execution_count": null,
   "metadata": {},
   "outputs": [],
   "source": [
    "print('目标函数在{0}取到极大值：{1:.4f}'.format(gBestPos, gBestFitness))"
   ]
  },
  {
   "cell_type": "markdown",
   "metadata": {},
   "source": [
    "## 2.2 多目标优化问题"
   ]
  },
  {
   "cell_type": "markdown",
   "metadata": {},
   "source": [
    "假设存在5类物品，每类物品中又包含4种具体物品，现要求从这5类物品分别选出1种物品放入背包种，使得背包种物品的总价值最大，体积最小，并且背包的总质量不超过92kg。"
   ]
  },
  {
   "cell_type": "markdown",
   "metadata": {},
   "source": [
    "背包问题的数学模型为：\n",
    "$$\n",
    "\\mathrm{max} P_x = \\sum_{j=1}^5 P_{X_{j},j}\n",
    "$$\n",
    "$$\n",
    "\\mathrm{max} V_x = \\sum_{j=1}^5 V_{X_{j},j}\n",
    "$$\n",
    "$$\n",
    "s.t. \\sum_{j=1}^5  M_{X_{j},j}\\leq 92\n",
    "$$"
   ]
  },
  {
   "cell_type": "markdown",
   "metadata": {},
   "source": [
    "### 2.2.1 参数设置"
   ]
  },
  {
   "cell_type": "code",
   "execution_count": 25,
   "metadata": {},
   "outputs": [],
   "source": [
    "P = pd.read_csv('price.csv', header=None)   # 各物品的价值\n",
    "M = pd.read_csv('mass.csv', header=None)    # 各物品的质量\n",
    "V = pd.read_csv('volume.csv', header=None)  # 各物品的体积\n",
    "weight = 92\n",
    "\n",
    "xSize = 50      # 种群规模\n",
    "Dim = 5         # 特征维数\n",
    "maxgen = 300    # 迭代次数\n",
    "c1 = 0.8        # 学习因子\n",
    "c2 = 0.8\n",
    "wmax = 1.2      # 惯性因子\n",
    "wmin = 0.1\n"
   ]
  },
  {
   "cell_type": "markdown",
   "metadata": {},
   "source": [
    "### 2.2.2 种群初始化"
   ]
  },
  {
   "cell_type": "code",
   "execution_count": 26,
   "metadata": {},
   "outputs": [],
   "source": [
    "np.random.seed(1024)\n",
    "X = np.random.randint(0, 4, [xSize, Dim])           # 粒子群初始化\n",
    "velocity = np.zeros((xSize, Dim))                   # 速度初始化\n",
    "\n",
    "# 粒子适应度值\n",
    "fitness = np.zeros((xSize, 3)) # 粒子价值目标p、体积目标v、质量约束m\n",
    "\n",
    "# 个体最优值和群体最优位置\n",
    "xBest = X\n",
    "gBest = X[1,:]"
   ]
  },
  {
   "cell_type": "markdown",
   "metadata": {},
   "source": [
    "### 2.2.3 寻找初始极值"
   ]
  },
  {
   "cell_type": "code",
   "execution_count": 27,
   "metadata": {},
   "outputs": [],
   "source": [
    "for i in range(xSize):\n",
    "    for j in range(Dim):\n",
    "        fitness[i, 0] += P.iloc[X[i,j],j] # 价值适应度值\n",
    "        fitness[i, 1] += V.iloc[X[i,j],j] # 体积适应度值\n",
    "        fitness[i, 2] += M.iloc[X[i,j],j] # 质量约束"
   ]
  },
  {
   "cell_type": "code",
   "execution_count": 28,
   "metadata": {},
   "outputs": [],
   "source": [
    "particleBest = np.copy(fitness)   # 粒子个体最优位置\n",
    "\n",
    "# 筛选非劣解\n",
    "solution = []\n",
    "position = []\n",
    "tol = 1e-7\n",
    "for i in range(xSize):\n",
    "    flag = 0    # 支配标志\n",
    "    for j in range(xSize):\n",
    "        if j != i:\n",
    "            if ((fitness[i,0] < fitness[j,0]) & (fitness[i,1] > fitness[j,1])) | ((fitness[i,0] < fitness[j,0]) & (abs(fitness[i,1] - fitness[j,1]) < tol)) | ((abs(fitness[i,0] - fitness[j,0]) < tol) & (fitness[i,1] > fitness[j,1])) | (fitness[i,2] >weight):\n",
    "                flag = 1\n",
    "                break\n",
    "    if flag == 0:\n",
    "        position.append( X[i,:] ) # 记录非劣解位置\n",
    "        solution.append(fitness[i,:])# 记录非劣解\n",
    "bag, noninferior = np.array(position), np.array(solution)\n"
   ]
  },
  {
   "cell_type": "markdown",
   "metadata": {},
   "source": [
    "### 2.2.4 循环迭代"
   ]
  },
  {
   "cell_type": "code",
   "execution_count": 29,
   "metadata": {},
   "outputs": [],
   "source": [
    "for k in range(maxgen):\n",
    "    # 惯性因子更新\n",
    "    w = wmax - (wmax -wmin) * (k / maxgen)\n",
    "\n",
    "    #  从非劣解集合中随机选择一个作为群体最优解\n",
    "    index = np.random.randint(len(noninferior))\n",
    "    gBest = bag[index]\n",
    "\n",
    "    for i in range(xSize):\n",
    "        velocity[i,:] = w * velocity[i,:] + c1 * np.random.random() * (xBest[i,:] - X[i,:]) + c2 * np.random.random() *(gBest-X[i,:])\n",
    "        X[i,:] = X[i,:] + velocity[i, :]\n",
    "    X = X % 4 \n",
    "  \n",
    "    # 计算个体适应度\n",
    "    fitnesstmp = np.zeros((xSize, 3))\n",
    "\n",
    "    for i in range(xSize):\n",
    "        for j in range(Dim):\n",
    "            fitnesstmp[i, 0] += P.iloc[X[i,j],j] # 价值适应度值\n",
    "            fitnesstmp[i, 1] += V.iloc[X[i,j],j] # 体积适应度值\n",
    "            fitnesstmp[i, 2] += M.iloc[X[i,j],j] # 质量约束\n",
    "        \n",
    "        # 若当前新粒子支配原有粒子，则更新\n",
    "        if ((fitness[i,0] < fitnesstmp[i,0]) & (fitness[i,1] > fitnesstmp[i,1])) |\\\n",
    "        ((fitness[i,0] < fitnesstmp[i,0]) & (abs(fitness[i,1] - fitnesstmp[i,1]) < tol)) | \\\n",
    "        ((abs(fitness[i,0] - fitnesstmp[i,0]) < tol) & (fitness[i,1] > fitnesstmp[i,1])) | (fitness[i,2] >weight):\n",
    "             xBest[i] =  X[i] # 粒子个体最优位置\n",
    "             particleBest[i] = fitnesstmp[i]   \n",
    "        \n",
    "    # 将原非劣解集合与粒子个体最优合并\n",
    "    collectionSet = np.vstack((noninferior, particleBest))\n",
    "    xx = np.vstack((bag, xBest))\n",
    "    \n",
    "    fitness = fitnesstmp\n",
    "\n",
    "    # 筛选非劣解\n",
    "    solution = []\n",
    "    position = []\n",
    "    for i in range(len(xx)):\n",
    "        flag = 0    # 支配标志\n",
    "        for j in range(len(xx)):\n",
    "            if j != i:\n",
    "                if ((collectionSet[i,0] < collectionSet[j,0]) & (collectionSet[i,1] > collectionSet[j,1])) | \\\n",
    "        ((collectionSet[i,0] < collectionSet[j,0]) & (abs(collectionSet[i,1] - collectionSet[j,1]) < tol)) | \\\n",
    "        ((abs(collectionSet[i,0] - collectionSet[j,0]) < tol) & (collectionSet[i,1] > collectionSet[j,1])) | \\\n",
    "        (collectionSet[i,2] >weight):\n",
    "                    flag = 1\n",
    "                    break\n",
    "        if flag == 0:\n",
    "            position.append( xx[i,:] ) # 记录非劣解位置\n",
    "            solution.append(collectionSet[i,:])# 记录非劣解\n",
    "    # 除去重复项\n",
    "    bag, indices = np.unique(np.array(position),axis=0, return_index=True)\n",
    "    noninferior = np.array(solution)\n",
    "    noninferior = noninferior[indices]\n",
    "    \n",
    "    "
   ]
  },
  {
   "cell_type": "code",
   "execution_count": 35,
   "metadata": {},
   "outputs": [
    {
     "data": {
      "text/plain": [
       "Text(0,0.5,'V(volume)')"
      ]
     },
     "execution_count": 35,
     "metadata": {},
     "output_type": "execute_result"
    },
    {
     "data": {
      "image/png": "[encoded data removed]",
      "text/plain": [
       "<Figure size 432x288 with 1 Axes>"
      ]
     },
     "metadata": {},
     "output_type": "display_data"
    }
   ],
   "source": [
    "plt.scatter(noninferior[:,2], noninferior[:,1])\n",
    "plt.xlabel('P(mass)')\n",
    "plt.ylabel('V(volume)')"
   ]
  },
  {
   "cell_type": "markdown",
   "metadata": {},
   "source": [
    "根据上图可知，粒子群算法的搜索得到的非劣解构成了pareto面，算法取得了很好的结果。"
   ]
  },
  {
   "cell_type": "code",
   "execution_count": 37,
   "metadata": {},
   "outputs": [
    {
     "data": {
      "text/plain": [
       "array([[28.  ,  1.45, 77.  ,  0.  ,  0.  ,  0.  ,  1.  ,  0.  ],\n",
       "       [30.  ,  1.5 , 79.  ,  0.  ,  0.  ,  0.  ,  2.  ,  0.  ],\n",
       "       [27.  ,  1.43, 75.  ,  0.  ,  0.  ,  1.  ,  1.  ,  0.  ],\n",
       "       [35.  ,  1.65, 85.  ,  0.  ,  1.  ,  0.  ,  0.  ,  0.  ],\n",
       "       [32.  ,  1.55, 81.  ,  0.  ,  1.  ,  0.  ,  2.  ,  0.  ],\n",
       "       [36.  ,  1.67, 88.  ,  0.  ,  2.  ,  0.  ,  0.  ,  0.  ],\n",
       "       [33.  ,  1.57, 84.  ,  0.  ,  2.  ,  0.  ,  2.  ,  0.  ],\n",
       "       [35.  ,  1.65, 86.  ,  0.  ,  2.  ,  1.  ,  0.  ,  0.  ],\n",
       "       [32.  ,  1.55, 82.  ,  0.  ,  2.  ,  1.  ,  2.  ,  0.  ],\n",
       "       [37.  ,  1.72, 92.  ,  0.  ,  2.  ,  3.  ,  0.  ,  0.  ],\n",
       "       [34.  ,  1.62, 88.  ,  0.  ,  2.  ,  3.  ,  2.  ,  0.  ],\n",
       "       [30.  ,  1.5 , 78.  ,  0.  ,  3.  ,  0.  ,  0.  ,  0.  ],\n",
       "       [29.  ,  1.47, 78.  ,  0.  ,  3.  ,  0.  ,  1.  ,  0.  ],\n",
       "       [31.  ,  1.52, 80.  ,  0.  ,  3.  ,  0.  ,  2.  ,  0.  ],\n",
       "       [28.  ,  1.45, 76.  ,  0.  ,  3.  ,  1.  ,  1.  ,  0.  ],\n",
       "       [30.  ,  1.5 , 78.  ,  0.  ,  3.  ,  1.  ,  2.  ,  0.  ],\n",
       "       [37.  ,  1.72, 90.  ,  1.  ,  2.  ,  0.  ,  0.  ,  0.  ],\n",
       "       [34.  ,  1.62, 86.  ,  1.  ,  2.  ,  0.  ,  2.  ,  0.  ],\n",
       "       [38.  ,  1.77, 92.  ,  2.  ,  2.  ,  0.  ,  0.  ,  0.  ]])"
      ]
     },
     "execution_count": 37,
     "metadata": {},
     "output_type": "execute_result"
    }
   ],
   "source": [
    "np.hstack((noninferior, bag))"
   ]
  },
  {
   "cell_type": "code",
   "execution_count": null,
   "metadata": {},
   "outputs": [],
   "source": []
  }
 ],
 "metadata": {
  "file_extension": ".py",
  "kernelspec": {
   "display_name": "Python 3",
   "language": "python",
   "name": "python3"
  },
  "language_info": {
   "codemirror_mode": {
    "name": "ipython",
    "version": 3
   },
   "file_extension": ".py",
   "mimetype": "text/x-python",
   "name": "python",
   "nbconvert_exporter": "python",
   "pygments_lexer": "ipython3",
   "version": "3.6.5"
  },
  "mimetype": "text/x-python",
  "name": "python",
  "npconvert_exporter": "python",
  "pygments_lexer": "ipython3",
  "version": 3
 },
 "nbformat": 4,
 "nbformat_minor": 2
}
