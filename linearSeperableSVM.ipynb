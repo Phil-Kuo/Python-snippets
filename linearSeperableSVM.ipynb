{
 "cells": [
  {
   "cell_type": "code",
   "execution_count": 1,
   "metadata": {},
   "outputs": [],
   "source": [
    "import numpy as np\n",
    "import matplotlib.pyplot as plt\n",
    "import pandas as pd\n",
    "from sklearn.svm import SVC"
   ]
  },
  {
   "cell_type": "code",
   "execution_count": 2,
   "metadata": {},
   "outputs": [],
   "source": [
    "def generateSeparatableData(n):\n",
    "    \"\"\"\n",
    "    产生线性可分的数据集\n",
    "    \"\"\"\n",
    "    np.random.seed(2046)\n",
    "    X = np.r_[np.random.randn(n, 2) - [1, 1], np.random.randn(n, 2) + [3, 3]]\n",
    "    Y = [[0]] * n + [[1]] * n\n",
    "    data = np.concatenate((Y, X), axis=1)\n",
    "    data = pd.DataFrame(data, columns=[\"y\", \"x1\", \"x2\"])\n",
    "    return data"
   ]
  },
  {
   "cell_type": "code",
   "execution_count": 9,
   "metadata": {
    "scrolled": true
   },
   "outputs": [
    {
     "data": {
      "text/html": [
       "<div>\n",
       "<style scoped>\n",
       "    .dataframe tbody tr th:only-of-type {\n",
       "        vertical-align: middle;\n",
       "    }\n",
       "\n",
       "    .dataframe tbody tr th {\n",
       "        vertical-align: top;\n",
       "    }\n",
       "\n",
       "    .dataframe thead th {\n",
       "        text-align: right;\n",
       "    }\n",
       "</style>\n",
       "<table border=\"1\" class=\"dataframe\">\n",
       "  <thead>\n",
       "    <tr style=\"text-align: right;\">\n",
       "      <th></th>\n",
       "      <th>y</th>\n",
       "      <th>x1</th>\n",
       "      <th>x2</th>\n",
       "    </tr>\n",
       "  </thead>\n",
       "  <tbody>\n",
       "    <tr>\n",
       "      <th>0</th>\n",
       "      <td>0.0</td>\n",
       "      <td>-0.784934</td>\n",
       "      <td>-0.115833</td>\n",
       "    </tr>\n",
       "    <tr>\n",
       "      <th>1</th>\n",
       "      <td>0.0</td>\n",
       "      <td>-2.160885</td>\n",
       "      <td>-1.215616</td>\n",
       "    </tr>\n",
       "    <tr>\n",
       "      <th>2</th>\n",
       "      <td>1.0</td>\n",
       "      <td>4.160988</td>\n",
       "      <td>1.479918</td>\n",
       "    </tr>\n",
       "    <tr>\n",
       "      <th>3</th>\n",
       "      <td>1.0</td>\n",
       "      <td>2.963956</td>\n",
       "      <td>1.855861</td>\n",
       "    </tr>\n",
       "  </tbody>\n",
       "</table>\n",
       "</div>"
      ],
      "text/plain": [
       "     y        x1        x2\n",
       "0  0.0 -0.784934 -0.115833\n",
       "1  0.0 -2.160885 -1.215616\n",
       "2  1.0  4.160988  1.479918\n",
       "3  1.0  2.963956  1.855861"
      ]
     },
     "execution_count": 9,
     "metadata": {},
     "output_type": "execute_result"
    }
   ],
   "source": [
    "generateSeparatableData(2)"
   ]
  },
  {
   "cell_type": "code",
   "execution_count": 5,
   "metadata": {},
   "outputs": [],
   "source": [
    "def generateInseparatableData(n):\n",
    "    \"\"\"\n",
    "    产生线性不可分的数据集\n",
    "    \"\"\"\n",
    "    data = generateSeparatableData(n)\n",
    "    inseparatable = [[1, -1, 1.5], [0, 3, 1]]\n",
    "    inseparatable = pd.DataFrame(inseparatable, columns=[\"y\", \"x1\", \"x2\"])\n",
    "    data = data.append(inseparatable)\n",
    "    return data"
   ]
  },
  {
   "cell_type": "code",
   "execution_count": 6,
   "metadata": {},
   "outputs": [
    {
     "data": {
      "text/html": [
       "<div>\n",
       "<style scoped>\n",
       "    .dataframe tbody tr th:only-of-type {\n",
       "        vertical-align: middle;\n",
       "    }\n",
       "\n",
       "    .dataframe tbody tr th {\n",
       "        vertical-align: top;\n",
       "    }\n",
       "\n",
       "    .dataframe thead th {\n",
       "        text-align: right;\n",
       "    }\n",
       "</style>\n",
       "<table border=\"1\" class=\"dataframe\">\n",
       "  <thead>\n",
       "    <tr style=\"text-align: right;\">\n",
       "      <th></th>\n",
       "      <th>y</th>\n",
       "      <th>x1</th>\n",
       "      <th>x2</th>\n",
       "    </tr>\n",
       "  </thead>\n",
       "  <tbody>\n",
       "    <tr>\n",
       "      <th>0</th>\n",
       "      <td>0.0</td>\n",
       "      <td>-0.784934</td>\n",
       "      <td>-0.115833</td>\n",
       "    </tr>\n",
       "    <tr>\n",
       "      <th>1</th>\n",
       "      <td>0.0</td>\n",
       "      <td>-2.160885</td>\n",
       "      <td>-1.215616</td>\n",
       "    </tr>\n",
       "    <tr>\n",
       "      <th>2</th>\n",
       "      <td>1.0</td>\n",
       "      <td>4.160988</td>\n",
       "      <td>1.479918</td>\n",
       "    </tr>\n",
       "    <tr>\n",
       "      <th>3</th>\n",
       "      <td>1.0</td>\n",
       "      <td>2.963956</td>\n",
       "      <td>1.855861</td>\n",
       "    </tr>\n",
       "    <tr>\n",
       "      <th>0</th>\n",
       "      <td>1.0</td>\n",
       "      <td>-1.000000</td>\n",
       "      <td>1.500000</td>\n",
       "    </tr>\n",
       "    <tr>\n",
       "      <th>1</th>\n",
       "      <td>0.0</td>\n",
       "      <td>3.000000</td>\n",
       "      <td>1.000000</td>\n",
       "    </tr>\n",
       "  </tbody>\n",
       "</table>\n",
       "</div>"
      ],
      "text/plain": [
       "     y        x1        x2\n",
       "0  0.0 -0.784934 -0.115833\n",
       "1  0.0 -2.160885 -1.215616\n",
       "2  1.0  4.160988  1.479918\n",
       "3  1.0  2.963956  1.855861\n",
       "0  1.0 -1.000000  1.500000\n",
       "1  0.0  3.000000  1.000000"
      ]
     },
     "execution_count": 6,
     "metadata": {},
     "output_type": "execute_result"
    }
   ],
   "source": [
    "generateInseparatableData(2)"
   ]
  },
  {
   "cell_type": "code",
   "execution_count": 11,
   "metadata": {},
   "outputs": [],
   "source": [
    "def trainModel(data):\n",
    "    \"\"\"\n",
    "    训练SVM模型\n",
    "    \"\"\"\n",
    "    # 将惩罚系数设为很大，使模型接近于线性可分时的模型\n",
    "    model = SVC(C=1e4, kernel=\"linear\")\n",
    "    model.fit(data[[\"x1\", \"x2\"]], data[\"y\"])\n",
    "    return model"
   ]
  },
  {
   "cell_type": "code",
   "execution_count": 12,
   "metadata": {},
   "outputs": [],
   "source": [
    "def visualize(data, model=None):\n",
    "    \"\"\"\n",
    "    将模型结果可视化\n",
    "    \"\"\"\n",
    "    # 创建一个图形框\n",
    "    fig = plt.figure(figsize=(6, 6), dpi=80)\n",
    "    # 在图形框里画一幅图\n",
    "    ax = fig.add_subplot(1, 1, 1)\n",
    "    label1 = data[data[\"y\"]>0]\n",
    "    ax.scatter(label1[[\"x1\"]], label1[[\"x2\"]], marker=\"o\")\n",
    "    label0 = data[data[\"y\"]==0]\n",
    "    ax.scatter(label0[[\"x1\"]], label0[[\"x2\"]], marker=\"^\", color=\"k\")\n",
    "    if model is not None:\n",
    "        w = model.coef_\n",
    "        a = -w[0][0] / w[0][1]\n",
    "        xx = np.linspace(-3, 5)\n",
    "        yy = a * xx - (model.intercept_) / w[0][1]\n",
    "        yy_down = yy - 1 / w[0][1]\n",
    "        yy_up = yy + 1 / w[0][1]\n",
    "        ax.plot(xx, yy, \"r\")\n",
    "        ax.plot(xx, yy_down, \"r--\")\n",
    "        ax.plot(xx, yy_up, \"r--\")\n",
    "    plt.show()"
   ]
  },
  {
   "cell_type": "code",
   "execution_count": 15,
   "metadata": {},
   "outputs": [],
   "source": [
    "data = generateSeparatableData(20)\n",
    "data1 = generateInseparatableData(20)"
   ]
  },
  {
   "cell_type": "code",
   "execution_count": 16,
   "metadata": {},
   "outputs": [
    {
     "data": {
      "image/png": "[encoded data removed]",
      "text/plain": [
       "<Figure size 480x480 with 1 Axes>"
      ]
     },
     "metadata": {},
     "output_type": "display_data"
    }
   ],
   "source": [
    "re = trainModel(data)\n",
    "visualize(data1, re)"
   ]
  }
 ],
 "metadata": {
  "kernelspec": {
   "display_name": "Python 3",
   "language": "python",
   "name": "python3"
  },
  "language_info": {
   "codemirror_mode": {
    "name": "ipython",
    "version": 3
   },
   "file_extension": ".py",
   "mimetype": "text/x-python",
   "name": "python",
   "nbconvert_exporter": "python",
   "pygments_lexer": "ipython3",
   "version": "3.6.5"
  }
 },
 "nbformat": 4,
 "nbformat_minor": 2
}
