{
 "cells": [
  {
   "cell_type": "markdown",
   "metadata": {},
   "source": [
    "# 逻辑回归模型：隐藏因子\n",
    "\n",
    "逻辑回归模型在工业界应用十分广泛。体现了数据建模过程中很重要的思想：对问题划分层次，并利用非线性变换和线性模型的组合，将未知的复杂问题分解为已知的简单问题。\n",
    "- 在模型层面上，逻辑回归是被用来解决分类问题的。由于分类是一个非线性问题，所以建模的难点在于如何把一个非线性问题转化为线性问题。相当多的模型都是围绕以下两个思路展开。\n",
    "    1. 从分解问题的角度入手：通过引入隐含变量，将问题分为两个层次，一个是线性的隐含变量模型，另一个是基于隐含变量模型结果的非线性变换。\n",
    "    2. 从图像的角度入手：逻辑回归是通过非线性的空间变换，将原空间内非线性的分类问题转化为新空间内的线性问题。\n",
    "- 在模型评估层面，讨论了两类互相有关联的评估指标。对于分类问题的预测结果，可以定义相应的查准率（precision）、查全率（recall），以及综合这两种的。对于基于概率的分类模型，还可以绘制其ROC曲线，以及计算曲线下面积AUC。这些指标都有相应的概率解释。因此虽然它们都是定义在二元分类问题上的，但可以很自然地推广到多元分类问题以及其他场景，成为通用的评估手段。\n",
    "\n",
    "可以毫不夸张地说：\n",
    "> 理解好逻辑回归的细节，就掌握了数据建模的精髓。"
   ]
  },
  {
   "cell_type": "markdown",
   "metadata": {},
   "source": [
    "## 1. 目标要求\n",
    "针对二元分类问题搭建逻辑回归模型，所采用数据是美国个人收入的普查数据,来源为美国加州大学欧文分校。如何利用逻辑回归模型预测个人的年收入分类（>50k、<=50k）成为我们关注的中心。"
   ]
  },
  {
   "cell_type": "markdown",
   "metadata": {},
   "source": [
    "### 1.1 数据探索分析：直观印象"
   ]
  },
  {
   "cell_type": "code",
   "execution_count": null,
   "metadata": {},
   "outputs": [],
   "source": [
    "from __future__ import print_function\n",
    "import os\n",
    "\n",
    "import numpy as np\n",
    "import matplotlib.pyplot as plt\n",
    "import pandas as pd\n",
    "from sklearn.model_selection import train_test_split\n",
    "import statsmodels.api as sm\n",
    "from statsmodels.graphics.mosaicplot import mosaic"
   ]
  },
  {
   "cell_type": "code",
   "execution_count": null,
   "metadata": {
    "scrolled": false
   },
   "outputs": [],
   "source": [
    "# 读取数据\n",
    "dataPath = \"./data/adult.data\"\n",
    "data = pd.read_csv(dataPath)\n",
    "data.head()"
   ]
  },
  {
   "cell_type": "code",
   "execution_count": null,
   "metadata": {},
   "outputs": [],
   "source": [
    "# 选取特定列的数据进行后续分析\n",
    "cols = [\"age\", \"hours_per_week\", \"education_num\", \"capital_gain\",\"capital_loss\",\"label\"]\n",
    "data = data[cols]"
   ]
  },
  {
   "cell_type": "markdown",
   "metadata": {},
   "source": [
    "** 利用pandas，将文本型类型变量转化为数字变量 **\n",
    "\n",
    "在源数据的基础上新生成一个变量“label_code”,根据label的不同取值对应生成，共有两个取值：0表示“ <=50K ”，1表示“ >50K ”。"
   ]
  },
  {
   "cell_type": "code",
   "execution_count": null,
   "metadata": {},
   "outputs": [],
   "source": [
    "data[\"label_code\"] = pd.Categorical(data['label']).codes\n",
    "data.head()"
   ]
  },
  {
   "cell_type": "markdown",
   "metadata": {},
   "source": [
    "** 各变量的分布情况 **\n",
    "\n",
    "采用直方图（histogram）将变量的分布情况可视化"
   ]
  },
  {
   "cell_type": "code",
   "execution_count": null,
   "metadata": {},
   "outputs": [],
   "source": [
    "# 画直方图，直观了解数据\n",
    "data[[\"age\", \"hours_per_week\", \"education_num\", \"label_code\"]].hist(\n",
    "        rwidth=0.9, figsize=(8, 8), alpha=0.6, color=\"grey\")\n",
    "plt.show()"
   ]
  },
  {
   "cell_type": "markdown",
   "metadata": {},
   "source": [
    "**利用统计指标分析数据**\n",
    "\n",
    "数据的基本统计信息，如平均值、标准差、极值等"
   ]
  },
  {
   "cell_type": "code",
   "execution_count": null,
   "metadata": {},
   "outputs": [],
   "source": [
    "data.describe()"
   ]
  },
  {
   "cell_type": "markdown",
   "metadata": {},
   "source": [
    "利用交叉报表（crosstab）来描述两个变量之间的关系"
   ]
  },
  {
   "cell_type": "code",
   "execution_count": null,
   "metadata": {},
   "outputs": [],
   "source": [
    "# 计算education_num, label交叉报表\n",
    "cross1 = pd.crosstab(pd.qcut(data[\"education_num\"],  q=[0, .25, .5, .75, 1], precision=1), data[\"label\"])\n",
    "print(\"显示education_num, label交叉报表：\")\n",
    "print(cross1)\n",
    "# 将交叉报表图形化\n",
    "props = lambda key: {\"color\": \"#aaaaaa\" if ' >50K' in key else \"#C6E2FF\"}\n",
    "mosaic(cross1[[\" >50K\", \" <=50K\"]].stack(), properties=props)\n",
    "# 计算hours_per_week, label交叉报表\n",
    "cross2 = pd.crosstab(pd.cut(data[\"hours_per_week\"], 5), data[\"label\"])\n",
    "# 将交叉报表归一化，利于分析数据\n",
    "cross2_norm = cross2.div(cross2.sum(1).astype(float), axis=0)\n",
    "print(\"显示hours_per_week, label交叉报表：\")\n",
    "print(cross2_norm)\n",
    "# 图形化归一化后的交叉报表\n",
    "cross2_norm.plot(kind=\"bar\", color=[\"#C6E2FF\", \"0.45\"], rot=0)\n",
    "plt.show()"
   ]
  },
  {
   "cell_type": "markdown",
   "metadata": {},
   "source": [
    "根据镶嵌图可以看出： 1. 随着受教育年限的增加，年收入大于5w的比例也随之增大；\n",
    "\n",
    "根据条形图可以看出： 1. 当工作时间小于80h，年收入大于5w的比例与工作时间成正比；当工作时间大于80h，年收入5w的比例反而下降了。"
   ]
  },
  {
   "cell_type": "markdown",
   "metadata": {},
   "source": [
    "### 1.2 搭建模型\n",
    "\n",
    "**使用第三方库Statsmodels搭建模型，并利用统计学方法分析模型参数估计值的稳定性**"
   ]
  },
  {
   "cell_type": "code",
   "execution_count": null,
   "metadata": {},
   "outputs": [],
   "source": [
    "def trainModel(data):\n",
    "    \"\"\"\n",
    "    搭建逻辑回归模型，并训练模型\n",
    "    \"\"\"\n",
    "    formula = \"label_code ~ age + education_num + capital_gain + capital_loss + hours_per_week\"\n",
    "    model = sm.Logit.from_formula(formula, data=data)\n",
    "    re = model.fit()\n",
    "    return re"
   ]
  },
  {
   "cell_type": "code",
   "execution_count": null,
   "metadata": {},
   "outputs": [],
   "source": [
    "def modelSummary(re):\n",
    "    \"\"\"\n",
    "    分析逻辑回归模型的统计性质\n",
    "    \"\"\"\n",
    "    # 整体统计分析结果\n",
    "    print(re.summary())\n",
    "    # 用f test检验education_num的系数是否显著\n",
    "    print(\"检验假设education_num的系数等于0：\")\n",
    "    print(re.f_test(\"education_num=0\"))\n",
    "    # 用f test检验两个假设是否同时成立\n",
    "    print(\"检验假设education_num的系数等于0.32和hours_per_week的系数等于0.04同时成立：\")\n",
    "    print(re.f_test(\"education_num=0.32, hours_per_week=0.04\"))"
   ]
  },
  {
   "cell_type": "code",
   "execution_count": null,
   "metadata": {
    "scrolled": false
   },
   "outputs": [],
   "source": [
    "# 将数据分为训练集和测试集\n",
    "trainSet, testSet = train_test_split(data, test_size=0.2, random_state=2310)\n",
    "# 训练模型并分析模型效果\n",
    "model = trainModel(trainSet)\n",
    "modelSummary(model)"
   ]
  },
  {
   "cell_type": "markdown",
   "metadata": {},
   "source": [
    "### 1.3 理解模型结果\n",
    "\n",
    "**模型参数的意义：1.事件的发生比；2.边际效应：变量变动对事件发生概率的影响**"
   ]
  },
  {
   "cell_type": "code",
   "execution_count": null,
   "metadata": {},
   "outputs": [],
   "source": [
    "def interpretModel(re):\n",
    "    \"\"\"\n",
    "    理解模型结果\n",
    "\n",
    "    参数\n",
    "    ----\n",
    "    re ：BinaryResults，训练好的逻辑回归模型\n",
    "    \"\"\"\n",
    "    conf = re.conf_int()\n",
    "    conf['OR'] = re.params\n",
    "    # 计算各个变量对事件发生比的影响\n",
    "    # conf里面的三列，分别对应着估计值的下界、上界和估计值本身\n",
    "    conf.columns = ['2.5%', '97.5%', 'OR']\n",
    "    print(\"各个变量对事件发生比的影响：\")\n",
    "    print(np.exp(conf))\n",
    "    # 计算各个变量的边际效应\n",
    "    print(\"各个变量的边际效应：\")\n",
    "    print(re.get_margeff(at=\"overall\").summary())\n",
    "\n",
    "interpretModel(model)"
   ]
  },
  {
   "cell_type": "markdown",
   "metadata": {},
   "source": [
    "### 1.4 评估模型效果\n",
    "\n",
    "**查准率与查全率**"
   ]
  },
  {
   "cell_type": "code",
   "execution_count": null,
   "metadata": {},
   "outputs": [],
   "source": [
    "def makePrediction(re, testSet, alpha=0.5):\n",
    "    \"\"\"\n",
    "    使用训练好的模型对测试数据做预测\n",
    "    \"\"\"\n",
    "    # 关闭pandas有关chain_assignment的警告\n",
    "    pd.options.mode.chained_assignment = None\n",
    "    # 计算事件发生的概率\n",
    "    testSet[\"prob\"] = re.predict(testSet)\n",
    "    print(\"事件发生概率（预测概率）大于0.6的数据个数：\")\n",
    "    print(testSet[testSet[\"prob\"] > 0.6].shape[0])  # 输出值为576\n",
    "    print(\"事件发生概率（预测概率）大于0.5的数据个数：\")\n",
    "    print(testSet[testSet[\"prob\"] > 0.5].shape[0])  # 输出值为834\n",
    "    # 根据预测的概率，得出最终的预测\n",
    "    testSet[\"pred\"] = testSet.apply(lambda x: 1 if x[\"prob\"] > alpha else 0, axis=1)\n",
    "    return testSet"
   ]
  },
  {
   "cell_type": "code",
   "execution_count": null,
   "metadata": {},
   "outputs": [],
   "source": [
    "def evaluation(re):\n",
    "    \"\"\"\n",
    "    计算预测结果的查准查全率以及f1\n",
    "\n",
    "    参数\n",
    "    ----\n",
    "    re ：DataFrame，预测结果，里面包含两列：真实值‘lable_code’、预测值‘pred’\n",
    "    \"\"\"\n",
    "    bins = np.array([0, 0.5, 1])\n",
    "    label = re[\"label_code\"]\n",
    "    pred = re[\"pred\"]\n",
    "    tn, fp, fn, tp = np.histogram2d(label, pred, bins=bins)[0].flatten()\n",
    "    print('tp:',tp,'fp:',fp,'fn:',fn,'tn:',tn)\n",
    "    precision = tp / (tp + fp)  # 0.951\n",
    "    recall = tp / (tp + fn)  # 0.826\n",
    "    f1 = 2 * precision * recall / (precision + recall)  # 0.884\n",
    "    print(\"查准率: %.3f, 查全率: %.3f, f1: %.3f\" % (precision, recall, f1))"
   ]
  },
  {
   "cell_type": "code",
   "execution_count": null,
   "metadata": {},
   "outputs": [],
   "source": [
    "testSet = makePrediction(model, testSet)\n",
    "evaluation(testSet)"
   ]
  },
  {
   "cell_type": "markdown",
   "metadata": {},
   "source": [
    "**ROC曲线与AUC**"
   ]
  },
  {
   "cell_type": "code",
   "execution_count": null,
   "metadata": {},
   "outputs": [],
   "source": [
    "from sklearn import metrics"
   ]
  },
  {
   "cell_type": "code",
   "execution_count": null,
   "metadata": {},
   "outputs": [],
   "source": [
    "fpr, tpr, thresholds = metrics.roc_curve(testSet['label_code'], testSet['prob'])\n",
    "# auc = metrics.auc(fpr,tpr)"
   ]
  },
  {
   "cell_type": "code",
   "execution_count": null,
   "metadata": {},
   "outputs": [],
   "source": [
    "tpr[thresholds>0.5],fpr,thresholds,auc"
   ]
  },
  {
   "cell_type": "code",
   "execution_count": null,
   "metadata": {},
   "outputs": [],
   "source": [
    "# 为在Matplotlib中显示中文，设置特殊字体\n",
    "plt.rcParams[\"font.sans-serif\"]=[\"SimHei\"]\n",
    "# 创建一个图形框\n",
    "fig = plt.figure(figsize=(6, 6), dpi=80)\n",
    "# 在图形框里只画一幅图\n",
    "ax = fig.add_subplot(1, 1, 1)\n",
    "ax.set_title(\"%s\" % \"ROC曲线\".decode(\"utf-8\"))\n",
    "ax.set_xlabel(\"False positive rate\")\n",
    "ax.set_ylabel(\"True positive rate\")\n",
    "ax.plot([0, 1], [0, 1], \"r--\")\n",
    "ax.set_xlim([0, 1])\n",
    "ax.set_ylim([0, 1])\n",
    "ax.plot(fpr, tpr, \"k\", label=\"%s; %s = %0.2f\" % (\"ROC曲线\".decode(\"utf-8\"),\"曲线下面积（AUC）\".decode(\"utf-8\"), auc))\n",
    "ax.fill_between(fpr, tpr, color=\"grey\", alpha=0.6)\n",
    "legend = plt.legend(shadow=True)\n",
    "plt.show()"
   ]
  },
  {
   "cell_type": "code",
   "execution_count": null,
   "metadata": {},
   "outputs": [],
   "source": []
  }
 ],
 "metadata": {
  "kernelspec": {
   "display_name": "Python 2",
   "language": "python",
   "name": "python2"
  },
  "language_info": {
   "codemirror_mode": {
    "name": "ipython",
    "version": 2
   },
   "file_extension": ".py",
   "mimetype": "text/x-python",
   "name": "python",
   "nbconvert_exporter": "python",
   "pygments_lexer": "ipython2",
   "version": "2.7.13"
  }
 },
 "nbformat": 4,
 "nbformat_minor": 2
}
