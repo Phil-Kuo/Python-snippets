{
 "cells": [
  {
   "cell_type": "markdown",
   "metadata": {},
   "source": [
    "# 定性变量的处理"
   ]
  },
  {
   "cell_type": "markdown",
   "metadata": {},
   "source": [
    "## 1. 目标要求\n",
    "针对二元分类问题搭建逻辑回归模型，所采用数据是美国个人收入的普查数据,来源为美国加州大学欧文分校。在模型中加入定性变量，利用逻辑回归模型预测个人的年收入分类（>50k、<=50k）。"
   ]
  },
  {
   "cell_type": "markdown",
   "metadata": {},
   "source": [
    "## 2. 数据探索分析：直观印象"
   ]
  },
  {
   "cell_type": "code",
   "execution_count": 115,
   "metadata": {},
   "outputs": [],
   "source": [
    "from __future__ import print_function\n",
    "import os\n",
    "\n",
    "import numpy as np\n",
    "import matplotlib.pyplot as plt\n",
    "import pandas as pd\n",
    "from patsy import ContrastMatrix\n",
    "from sklearn.model_selection import train_test_split\n",
    "from sklearn import metrics\n",
    "import statsmodels.api as sm\n",
    "from statsmodels.graphics.mosaicplot import mosaic"
   ]
  },
  {
   "cell_type": "code",
   "execution_count": 116,
   "metadata": {
    "scrolled": false
   },
   "outputs": [
    {
     "data": {
      "text/html": [
       "<div>\n",
       "<style>\n",
       "    .dataframe thead tr:only-child th {\n",
       "        text-align: right;\n",
       "    }\n",
       "\n",
       "    .dataframe thead th {\n",
       "        text-align: left;\n",
       "    }\n",
       "\n",
       "    .dataframe tbody tr th {\n",
       "        vertical-align: top;\n",
       "    }\n",
       "</style>\n",
       "<table border=\"1\" class=\"dataframe\">\n",
       "  <thead>\n",
       "    <tr style=\"text-align: right;\">\n",
       "      <th></th>\n",
       "      <th>age</th>\n",
       "      <th>workclass</th>\n",
       "      <th>fnlwgt</th>\n",
       "      <th>education</th>\n",
       "      <th>education_num</th>\n",
       "      <th>martial_status</th>\n",
       "      <th>occupation</th>\n",
       "      <th>relationship</th>\n",
       "      <th>race</th>\n",
       "      <th>sex</th>\n",
       "      <th>capital_gain</th>\n",
       "      <th>capital_loss</th>\n",
       "      <th>hours_per_week</th>\n",
       "      <th>native_country</th>\n",
       "      <th>label</th>\n",
       "    </tr>\n",
       "  </thead>\n",
       "  <tbody>\n",
       "    <tr>\n",
       "      <th>0</th>\n",
       "      <td>39</td>\n",
       "      <td>State-gov</td>\n",
       "      <td>77516</td>\n",
       "      <td>Bachelors</td>\n",
       "      <td>13</td>\n",
       "      <td>Never-married</td>\n",
       "      <td>Adm-clerical</td>\n",
       "      <td>Not-in-family</td>\n",
       "      <td>White</td>\n",
       "      <td>Male</td>\n",
       "      <td>2174</td>\n",
       "      <td>0</td>\n",
       "      <td>40</td>\n",
       "      <td>United-States</td>\n",
       "      <td>&lt;=50K</td>\n",
       "    </tr>\n",
       "    <tr>\n",
       "      <th>1</th>\n",
       "      <td>50</td>\n",
       "      <td>Self-emp-not-inc</td>\n",
       "      <td>83311</td>\n",
       "      <td>Bachelors</td>\n",
       "      <td>13</td>\n",
       "      <td>Married-civ-spouse</td>\n",
       "      <td>Exec-managerial</td>\n",
       "      <td>Husband</td>\n",
       "      <td>White</td>\n",
       "      <td>Male</td>\n",
       "      <td>0</td>\n",
       "      <td>0</td>\n",
       "      <td>13</td>\n",
       "      <td>United-States</td>\n",
       "      <td>&lt;=50K</td>\n",
       "    </tr>\n",
       "    <tr>\n",
       "      <th>2</th>\n",
       "      <td>38</td>\n",
       "      <td>Private</td>\n",
       "      <td>215646</td>\n",
       "      <td>HS-grad</td>\n",
       "      <td>9</td>\n",
       "      <td>Divorced</td>\n",
       "      <td>Handlers-cleaners</td>\n",
       "      <td>Not-in-family</td>\n",
       "      <td>White</td>\n",
       "      <td>Male</td>\n",
       "      <td>0</td>\n",
       "      <td>0</td>\n",
       "      <td>40</td>\n",
       "      <td>United-States</td>\n",
       "      <td>&lt;=50K</td>\n",
       "    </tr>\n",
       "    <tr>\n",
       "      <th>3</th>\n",
       "      <td>53</td>\n",
       "      <td>Private</td>\n",
       "      <td>234721</td>\n",
       "      <td>11th</td>\n",
       "      <td>7</td>\n",
       "      <td>Married-civ-spouse</td>\n",
       "      <td>Handlers-cleaners</td>\n",
       "      <td>Husband</td>\n",
       "      <td>Black</td>\n",
       "      <td>Male</td>\n",
       "      <td>0</td>\n",
       "      <td>0</td>\n",
       "      <td>40</td>\n",
       "      <td>United-States</td>\n",
       "      <td>&lt;=50K</td>\n",
       "    </tr>\n",
       "    <tr>\n",
       "      <th>4</th>\n",
       "      <td>28</td>\n",
       "      <td>Private</td>\n",
       "      <td>338409</td>\n",
       "      <td>Bachelors</td>\n",
       "      <td>13</td>\n",
       "      <td>Married-civ-spouse</td>\n",
       "      <td>Prof-specialty</td>\n",
       "      <td>Wife</td>\n",
       "      <td>Black</td>\n",
       "      <td>Female</td>\n",
       "      <td>0</td>\n",
       "      <td>0</td>\n",
       "      <td>40</td>\n",
       "      <td>Cuba</td>\n",
       "      <td>&lt;=50K</td>\n",
       "    </tr>\n",
       "  </tbody>\n",
       "</table>\n",
       "</div>"
      ],
      "text/plain": [
       "   age          workclass  fnlwgt   education  education_num  \\\n",
       "0   39          State-gov   77516   Bachelors             13   \n",
       "1   50   Self-emp-not-inc   83311   Bachelors             13   \n",
       "2   38            Private  215646     HS-grad              9   \n",
       "3   53            Private  234721        11th              7   \n",
       "4   28            Private  338409   Bachelors             13   \n",
       "\n",
       "        martial_status          occupation    relationship    race      sex  \\\n",
       "0        Never-married        Adm-clerical   Not-in-family   White     Male   \n",
       "1   Married-civ-spouse     Exec-managerial         Husband   White     Male   \n",
       "2             Divorced   Handlers-cleaners   Not-in-family   White     Male   \n",
       "3   Married-civ-spouse   Handlers-cleaners         Husband   Black     Male   \n",
       "4   Married-civ-spouse      Prof-specialty            Wife   Black   Female   \n",
       "\n",
       "   capital_gain  capital_loss  hours_per_week  native_country   label  \n",
       "0          2174             0              40   United-States   <=50K  \n",
       "1             0             0              13   United-States   <=50K  \n",
       "2             0             0              40   United-States   <=50K  \n",
       "3             0             0              40   United-States   <=50K  \n",
       "4             0             0              40            Cuba   <=50K  "
      ]
     },
     "execution_count": 116,
     "metadata": {},
     "output_type": "execute_result"
    }
   ],
   "source": [
    "# 读取数据\n",
    "dataPath = \"./data/adult.data\"\n",
    "data = pd.read_csv(dataPath)\n",
    "data.head()"
   ]
  },
  {
   "cell_type": "code",
   "execution_count": 117,
   "metadata": {},
   "outputs": [],
   "source": [
    "# 选取特定列的数据进行后续分析\n",
    "cols = [\"workclass\",\"age\", \"sex\",\"hours_per_week\", \"education_num\", \"capital_gain\",\"capital_loss\",\"label\"]\n",
    "data = data[cols]"
   ]
  },
  {
   "cell_type": "markdown",
   "metadata": {},
   "source": [
    "利用pandas，将文本型类型变量转化为数字变量\n",
    "\n",
    "在源数据的基础上新生成一个变量“label_code”,根据label的不同取值对应生成，共有两个取值：0表示“ <=50K ”，1表示“ >50K ”。"
   ]
  },
  {
   "cell_type": "code",
   "execution_count": 118,
   "metadata": {},
   "outputs": [
    {
     "data": {
      "text/html": [
       "<div>\n",
       "<style>\n",
       "    .dataframe thead tr:only-child th {\n",
       "        text-align: right;\n",
       "    }\n",
       "\n",
       "    .dataframe thead th {\n",
       "        text-align: left;\n",
       "    }\n",
       "\n",
       "    .dataframe tbody tr th {\n",
       "        vertical-align: top;\n",
       "    }\n",
       "</style>\n",
       "<table border=\"1\" class=\"dataframe\">\n",
       "  <thead>\n",
       "    <tr style=\"text-align: right;\">\n",
       "      <th></th>\n",
       "      <th>workclass</th>\n",
       "      <th>age</th>\n",
       "      <th>sex</th>\n",
       "      <th>hours_per_week</th>\n",
       "      <th>education_num</th>\n",
       "      <th>capital_gain</th>\n",
       "      <th>capital_loss</th>\n",
       "      <th>label</th>\n",
       "      <th>label_code</th>\n",
       "    </tr>\n",
       "  </thead>\n",
       "  <tbody>\n",
       "    <tr>\n",
       "      <th>0</th>\n",
       "      <td>State-gov</td>\n",
       "      <td>39</td>\n",
       "      <td>Male</td>\n",
       "      <td>40</td>\n",
       "      <td>13</td>\n",
       "      <td>2174</td>\n",
       "      <td>0</td>\n",
       "      <td>&lt;=50K</td>\n",
       "      <td>0</td>\n",
       "    </tr>\n",
       "    <tr>\n",
       "      <th>1</th>\n",
       "      <td>Self-emp-not-inc</td>\n",
       "      <td>50</td>\n",
       "      <td>Male</td>\n",
       "      <td>13</td>\n",
       "      <td>13</td>\n",
       "      <td>0</td>\n",
       "      <td>0</td>\n",
       "      <td>&lt;=50K</td>\n",
       "      <td>0</td>\n",
       "    </tr>\n",
       "    <tr>\n",
       "      <th>2</th>\n",
       "      <td>Private</td>\n",
       "      <td>38</td>\n",
       "      <td>Male</td>\n",
       "      <td>40</td>\n",
       "      <td>9</td>\n",
       "      <td>0</td>\n",
       "      <td>0</td>\n",
       "      <td>&lt;=50K</td>\n",
       "      <td>0</td>\n",
       "    </tr>\n",
       "    <tr>\n",
       "      <th>3</th>\n",
       "      <td>Private</td>\n",
       "      <td>53</td>\n",
       "      <td>Male</td>\n",
       "      <td>40</td>\n",
       "      <td>7</td>\n",
       "      <td>0</td>\n",
       "      <td>0</td>\n",
       "      <td>&lt;=50K</td>\n",
       "      <td>0</td>\n",
       "    </tr>\n",
       "    <tr>\n",
       "      <th>4</th>\n",
       "      <td>Private</td>\n",
       "      <td>28</td>\n",
       "      <td>Female</td>\n",
       "      <td>40</td>\n",
       "      <td>13</td>\n",
       "      <td>0</td>\n",
       "      <td>0</td>\n",
       "      <td>&lt;=50K</td>\n",
       "      <td>0</td>\n",
       "    </tr>\n",
       "  </tbody>\n",
       "</table>\n",
       "</div>"
      ],
      "text/plain": [
       "           workclass  age      sex  hours_per_week  education_num  \\\n",
       "0          State-gov   39     Male              40             13   \n",
       "1   Self-emp-not-inc   50     Male              13             13   \n",
       "2            Private   38     Male              40              9   \n",
       "3            Private   53     Male              40              7   \n",
       "4            Private   28   Female              40             13   \n",
       "\n",
       "   capital_gain  capital_loss   label  label_code  \n",
       "0          2174             0   <=50K           0  \n",
       "1             0             0   <=50K           0  \n",
       "2             0             0   <=50K           0  \n",
       "3             0             0   <=50K           0  \n",
       "4             0             0   <=50K           0  "
      ]
     },
     "execution_count": 118,
     "metadata": {},
     "output_type": "execute_result"
    }
   ],
   "source": [
    "data[\"label_code\"] = pd.Categorical(data['label']).codes\n",
    "data.head()"
   ]
  },
  {
   "cell_type": "markdown",
   "metadata": {},
   "source": [
    "** 各变量的分布情况 **\n",
    "\n",
    "采用直方图（histogram）将变量的分布情况可视化"
   ]
  },
  {
   "cell_type": "code",
   "execution_count": 119,
   "metadata": {
    "scrolled": false
   },
   "outputs": [
    {
     "data": {
      "image/png": "[encoded data removed]",
      "text/plain": [
       "<matplotlib.figure.Figure at 0xeb8cf60>"
      ]
     },
     "metadata": {},
     "output_type": "display_data"
    }
   ],
   "source": [
    "# 画直方图，直观了解数据\n",
    "data[[\"age\", \"hours_per_week\", \"education_num\", \"label_code\"]].hist(\n",
    "        rwidth=0.9, figsize=(8, 8), alpha=0.6, color=\"grey\")\n",
    "plt.show()"
   ]
  },
  {
   "cell_type": "markdown",
   "metadata": {},
   "source": [
    "**利用统计指标分析数据**\n",
    "\n",
    "数据的基本统计信息，如平均值、标准差、极值等"
   ]
  },
  {
   "cell_type": "code",
   "execution_count": 120,
   "metadata": {},
   "outputs": [
    {
     "data": {
      "text/html": [
       "<div>\n",
       "<style>\n",
       "    .dataframe thead tr:only-child th {\n",
       "        text-align: right;\n",
       "    }\n",
       "\n",
       "    .dataframe thead th {\n",
       "        text-align: left;\n",
       "    }\n",
       "\n",
       "    .dataframe tbody tr th {\n",
       "        vertical-align: top;\n",
       "    }\n",
       "</style>\n",
       "<table border=\"1\" class=\"dataframe\">\n",
       "  <thead>\n",
       "    <tr style=\"text-align: right;\">\n",
       "      <th></th>\n",
       "      <th>age</th>\n",
       "      <th>hours_per_week</th>\n",
       "      <th>education_num</th>\n",
       "      <th>capital_gain</th>\n",
       "      <th>capital_loss</th>\n",
       "      <th>label_code</th>\n",
       "    </tr>\n",
       "  </thead>\n",
       "  <tbody>\n",
       "    <tr>\n",
       "      <th>count</th>\n",
       "      <td>32561.000000</td>\n",
       "      <td>32561.000000</td>\n",
       "      <td>32561.000000</td>\n",
       "      <td>32561.000000</td>\n",
       "      <td>32561.000000</td>\n",
       "      <td>32561.000000</td>\n",
       "    </tr>\n",
       "    <tr>\n",
       "      <th>mean</th>\n",
       "      <td>38.581647</td>\n",
       "      <td>40.437456</td>\n",
       "      <td>10.080679</td>\n",
       "      <td>1077.648844</td>\n",
       "      <td>87.303830</td>\n",
       "      <td>0.240810</td>\n",
       "    </tr>\n",
       "    <tr>\n",
       "      <th>std</th>\n",
       "      <td>13.640433</td>\n",
       "      <td>12.347429</td>\n",
       "      <td>2.572720</td>\n",
       "      <td>7385.292085</td>\n",
       "      <td>402.960219</td>\n",
       "      <td>0.427581</td>\n",
       "    </tr>\n",
       "    <tr>\n",
       "      <th>min</th>\n",
       "      <td>17.000000</td>\n",
       "      <td>1.000000</td>\n",
       "      <td>1.000000</td>\n",
       "      <td>0.000000</td>\n",
       "      <td>0.000000</td>\n",
       "      <td>0.000000</td>\n",
       "    </tr>\n",
       "    <tr>\n",
       "      <th>25%</th>\n",
       "      <td>28.000000</td>\n",
       "      <td>40.000000</td>\n",
       "      <td>9.000000</td>\n",
       "      <td>0.000000</td>\n",
       "      <td>0.000000</td>\n",
       "      <td>0.000000</td>\n",
       "    </tr>\n",
       "    <tr>\n",
       "      <th>50%</th>\n",
       "      <td>37.000000</td>\n",
       "      <td>40.000000</td>\n",
       "      <td>10.000000</td>\n",
       "      <td>0.000000</td>\n",
       "      <td>0.000000</td>\n",
       "      <td>0.000000</td>\n",
       "    </tr>\n",
       "    <tr>\n",
       "      <th>75%</th>\n",
       "      <td>48.000000</td>\n",
       "      <td>45.000000</td>\n",
       "      <td>12.000000</td>\n",
       "      <td>0.000000</td>\n",
       "      <td>0.000000</td>\n",
       "      <td>0.000000</td>\n",
       "    </tr>\n",
       "    <tr>\n",
       "      <th>max</th>\n",
       "      <td>90.000000</td>\n",
       "      <td>99.000000</td>\n",
       "      <td>16.000000</td>\n",
       "      <td>99999.000000</td>\n",
       "      <td>4356.000000</td>\n",
       "      <td>1.000000</td>\n",
       "    </tr>\n",
       "  </tbody>\n",
       "</table>\n",
       "</div>"
      ],
      "text/plain": [
       "                age  hours_per_week  education_num  capital_gain  \\\n",
       "count  32561.000000    32561.000000   32561.000000  32561.000000   \n",
       "mean      38.581647       40.437456      10.080679   1077.648844   \n",
       "std       13.640433       12.347429       2.572720   7385.292085   \n",
       "min       17.000000        1.000000       1.000000      0.000000   \n",
       "25%       28.000000       40.000000       9.000000      0.000000   \n",
       "50%       37.000000       40.000000      10.000000      0.000000   \n",
       "75%       48.000000       45.000000      12.000000      0.000000   \n",
       "max       90.000000       99.000000      16.000000  99999.000000   \n",
       "\n",
       "       capital_loss    label_code  \n",
       "count  32561.000000  32561.000000  \n",
       "mean      87.303830      0.240810  \n",
       "std      402.960219      0.427581  \n",
       "min        0.000000      0.000000  \n",
       "25%        0.000000      0.000000  \n",
       "50%        0.000000      0.000000  \n",
       "75%        0.000000      0.000000  \n",
       "max     4356.000000      1.000000  "
      ]
     },
     "execution_count": 120,
     "metadata": {},
     "output_type": "execute_result"
    }
   ],
   "source": [
    "data.describe()"
   ]
  },
  {
   "cell_type": "markdown",
   "metadata": {},
   "source": [
    "利用交叉报表（crosstab）来描述两个变量之间的关系"
   ]
  },
  {
   "cell_type": "code",
   "execution_count": 121,
   "metadata": {},
   "outputs": [
    {
     "name": "stdout",
     "output_type": "stream",
     "text": [
      "显示education_num, label交叉报表：\n",
      "label           <=50K   >50K\n",
      "education_num               \n",
      "(0.9, 9.0]      12835   1919\n",
      "(9.0, 10.0]      5904   1387\n",
      "(10.0, 12.0]     1823    626\n",
      "(12.0, 16.0]     4158   3909\n",
      "显示hours_per_week, label交叉报表：\n",
      "label              <=50K      >50K\n",
      "hours_per_week                    \n",
      "(0.902, 20.6]   0.933402  0.066598\n",
      "(20.6, 40.2]    0.810991  0.189009\n",
      "(40.2, 59.8]    0.599200  0.400800\n",
      "(59.8, 79.4]    0.584670  0.415330\n",
      "(79.4, 99.0]    0.648094  0.351906\n"
     ]
    },
    {
     "data": {
      "image/png": "[encoded data removed]",
      "text/plain": [
       "<matplotlib.figure.Figure at 0xe11f710>"
      ]
     },
     "metadata": {},
     "output_type": "display_data"
    },
    {
     "data": {
      "image/png": "[encoded data removed]",
      "text/plain": [
       "<matplotlib.figure.Figure at 0xdaad9e8>"
      ]
     },
     "metadata": {},
     "output_type": "display_data"
    }
   ],
   "source": [
    "# 计算education_num, label交叉报表\n",
    "cross1 = pd.crosstab(pd.qcut(data[\"education_num\"],  q=[0, .25, .5, .75, 1], precision=1), data[\"label\"])\n",
    "print(\"显示education_num, label交叉报表：\")\n",
    "print(cross1)\n",
    "# 将交叉报表图形化\n",
    "props = lambda key: {\"color\": \"#aaaaaa\" if ' >50K' in key else \"#C6E2FF\"}\n",
    "mosaic(cross1[[\" >50K\", \" <=50K\"]].stack(), properties=props)\n",
    "# 计算hours_per_week, label交叉报表\n",
    "cross2 = pd.crosstab(pd.cut(data[\"hours_per_week\"], 5), data[\"label\"])\n",
    "# 将交叉报表归一化，利于分析数据\n",
    "cross2_norm = cross2.div(cross2.sum(1).astype(float), axis=0)\n",
    "print(\"显示hours_per_week, label交叉报表：\")\n",
    "print(cross2_norm)\n",
    "# 图形化归一化后的交叉报表\n",
    "cross2_norm.plot(kind=\"bar\", color=[\"#C6E2FF\", \"0.45\"], rot=0)\n",
    "plt.show()"
   ]
  },
  {
   "cell_type": "code",
   "execution_count": 122,
   "metadata": {},
   "outputs": [
    {
     "name": "stdout",
     "output_type": "stream",
     "text": [
      "显示sex, label交叉报表：\n",
      "label     <=50K   >50K\n",
      "sex                   \n",
      " Female    9592   1179\n",
      " Male     15128   6662\n"
     ]
    },
    {
     "data": {
      "image/png": "[encoded data removed]",
      "text/plain": [
       "<matplotlib.figure.Figure at 0xdda84a8>"
      ]
     },
     "metadata": {},
     "output_type": "display_data"
    }
   ],
   "source": [
    "# 计算sex, label交叉报表\n",
    "cross1 = pd.crosstab(data[\"sex\"], data[\"label\"])\n",
    "print(\"显示sex, label交叉报表：\")\n",
    "print(cross1)\n",
    "# 将交叉报表图形化\n",
    "props = lambda key: {\"color\": \"#aaaaaa\" if ' >50K' in key else \"#C6E2FF\"}\n",
    "mosaic(cross1[[\" >50K\", \" <=50K\"]].stack(), properties=props)\n",
    "plt.show()"
   ]
  },
  {
   "cell_type": "markdown",
   "metadata": {},
   "source": [
    "### 1.2 搭建模型\n",
    "\n",
    "**使用第三方库Statsmodels搭建模型，并利用统计学方法分析模型参数估计值的稳定性**\n",
    "\n",
    "分别定义基础逻辑回归模型和包含定性变量的逻辑回归模型"
   ]
  },
  {
   "cell_type": "code",
   "execution_count": 123,
   "metadata": {},
   "outputs": [],
   "source": [
    "def baseModel(data):\n",
    "    \"\"\"\n",
    "    原有基础逻辑回归模型\n",
    "    \"\"\"\n",
    "    formula = \"label_code ~ education_num + capital_gain + capital_loss + hours_per_week\"\n",
    "    model = sm.Logit.from_formula(formula, data=data)\n",
    "    re = model.fit()\n",
    "    return re"
   ]
  },
  {
   "cell_type": "code",
   "execution_count": 124,
   "metadata": {},
   "outputs": [],
   "source": [
    "def trainModel(data):\n",
    "    \"\"\"\n",
    "    加入一个定性变量来搭建逻辑回归模型\n",
    "    \"\"\"\n",
    "    formula = \"label_code ~ C(sex) + education_num + capital_gain + capital_loss + hours_per_week\"\n",
    "    model = sm.Logit.from_formula(formula, data=data)\n",
    "    re = model.fit()\n",
    "    return re"
   ]
  },
  {
   "cell_type": "code",
   "execution_count": 149,
   "metadata": {},
   "outputs": [],
   "source": [
    "from patsy import ContrastMatrix\n",
    "\n",
    "def trainModel2(data):\n",
    "    \"\"\"\n",
    "    加入\"workclass\"定性变量（含有多个类别）来搭建逻辑回归模型\n",
    "    \"\"\"\n",
    "    l = [' ?', ' Without-pay', ' Never-worked',' State-gov', ' Self-emp-not-inc', ' Private', ' Federal-gov',\n",
    "       ' Local-gov', ' Self-emp-inc']\n",
    "    \n",
    "    contrast = np.eye(9,6,k=-3)\n",
    "    \n",
    "    contrast_mat = ContrastMatrix(contrast, l[3:])\n",
    "    \n",
    "    formula = \"label_code ~ C(workclass, contrast_mat, levels=l) + C(sex) + education_num + capital_gain + capital_loss + hours_per_week\"\n",
    "    model = sm.Logit.from_formula(formula, data=data)\n",
    "    re = model.fit()\n",
    "    return re"
   ]
  },
  {
   "cell_type": "code",
   "execution_count": 125,
   "metadata": {},
   "outputs": [],
   "source": [
    "def modelSummary(re):\n",
    "    \"\"\"\n",
    "    分析逻辑回归模型的统计性质\n",
    "    \"\"\"\n",
    "    # 整体统计分析结果\n",
    "    print(re.summary())"
   ]
  },
  {
   "cell_type": "code",
   "execution_count": 126,
   "metadata": {},
   "outputs": [],
   "source": [
    "# 将数据分为训练集和测试集\n",
    "trainSet, testSet = train_test_split(data, test_size=0.2, random_state=2310)"
   ]
  },
  {
   "cell_type": "code",
   "execution_count": 127,
   "metadata": {},
   "outputs": [
    {
     "name": "stdout",
     "output_type": "stream",
     "text": [
      "Optimization terminated successfully.\n",
      "         Current function value: 0.426128\n",
      "         Iterations 8\n",
      "                           Logit Regression Results                           \n",
      "==============================================================================\n",
      "Dep. Variable:             label_code   No. Observations:                26048\n",
      "Model:                          Logit   Df Residuals:                    26043\n",
      "Method:                           MLE   Df Model:                            4\n",
      "Date:                Thu, 08 Nov 2018   Pseudo R-squ.:                  0.2276\n",
      "Time:                        21:54:50   Log-Likelihood:                -11100.\n",
      "converged:                       True   LL-Null:                       -14370.\n",
      "                                        LLR p-value:                     0.000\n",
      "==================================================================================\n",
      "                     coef    std err          z      P>|z|      [0.025      0.975]\n",
      "----------------------------------------------------------------------------------\n",
      "Intercept         -6.4633      0.105    -61.684      0.000      -6.669      -6.258\n",
      "education_num      0.3204      0.008     42.331      0.000       0.306       0.335\n",
      "capital_gain       0.0003   1.07e-05     31.534      0.000       0.000       0.000\n",
      "capital_loss       0.0008   3.52e-05     21.762      0.000       0.001       0.001\n",
      "hours_per_week     0.0382      0.001     26.397      0.000       0.035       0.041\n",
      "==================================================================================\n"
     ]
    }
   ],
   "source": [
    "# 训练模型并分析基础逻辑回归模型效果\n",
    "baseModelRe = baseModel(trainSet)\n",
    "modelSummary(baseModelRe)"
   ]
  },
  {
   "cell_type": "code",
   "execution_count": 128,
   "metadata": {
    "scrolled": true
   },
   "outputs": [
    {
     "name": "stdout",
     "output_type": "stream",
     "text": [
      "Optimization terminated successfully.\n",
      "         Current function value: 0.409236\n",
      "         Iterations 8\n",
      "                           Logit Regression Results                           \n",
      "==============================================================================\n",
      "Dep. Variable:             label_code   No. Observations:                26048\n",
      "Model:                          Logit   Df Residuals:                    26042\n",
      "Method:                           MLE   Df Model:                            5\n",
      "Date:                Thu, 08 Nov 2018   Pseudo R-squ.:                  0.2582\n",
      "Time:                        21:54:51   Log-Likelihood:                -10660.\n",
      "converged:                       True   LL-Null:                       -14370.\n",
      "                                        LLR p-value:                     0.000\n",
      "===================================================================================\n",
      "                      coef    std err          z      P>|z|      [0.025      0.975]\n",
      "-----------------------------------------------------------------------------------\n",
      "Intercept          -7.1944      0.112    -64.011      0.000      -7.415      -6.974\n",
      "C(sex)[T. Male]     1.2221      0.044     27.602      0.000       1.135       1.309\n",
      "education_num       0.3329      0.008     43.145      0.000       0.318       0.348\n",
      "capital_gain        0.0003   1.08e-05     31.073      0.000       0.000       0.000\n",
      "capital_loss        0.0007    3.6e-05     20.798      0.000       0.001       0.001\n",
      "hours_per_week      0.0308      0.001     20.857      0.000       0.028       0.034\n",
      "===================================================================================\n"
     ]
    }
   ],
   "source": [
    "# 训练模型并分析包含一个定性变量的逻辑回归模型效果\n",
    "model = trainModel(trainSet)\n",
    "modelSummary(model)"
   ]
  },
  {
   "cell_type": "code",
   "execution_count": 150,
   "metadata": {},
   "outputs": [
    {
     "name": "stdout",
     "output_type": "stream",
     "text": [
      "Optimization terminated successfully.\n",
      "         Current function value: 0.405935\n",
      "         Iterations 8\n",
      "                           Logit Regression Results                           \n",
      "==============================================================================\n",
      "Dep. Variable:             label_code   No. Observations:                26048\n",
      "Model:                          Logit   Df Residuals:                    26036\n",
      "Method:                           MLE   Df Model:                           11\n",
      "Date:                Thu, 08 Nov 2018   Pseudo R-squ.:                  0.2642\n",
      "Time:                        22:07:52   Log-Likelihood:                -10574.\n",
      "converged:                       True   LL-Null:                       -14370.\n",
      "                                        LLR p-value:                     0.000\n",
      "=========================================================================================================================\n",
      "                                                            coef    std err          z      P>|z|      [0.025      0.975]\n",
      "-------------------------------------------------------------------------------------------------------------------------\n",
      "Intercept                                                -7.5784      0.145    -52.287      0.000      -7.862      -7.294\n",
      "C(workclass, contrast_mat, levels=l) State-gov            0.3520      0.130      2.699      0.007       0.096       0.608\n",
      "C(workclass, contrast_mat, levels=l) Self-emp-not-inc     0.3687      0.116      3.165      0.002       0.140       0.597\n",
      "C(workclass, contrast_mat, levels=l) Private              0.5058      0.101      4.984      0.000       0.307       0.705\n",
      "C(workclass, contrast_mat, levels=l) Federal-gov          1.0792      0.132      8.196      0.000       0.821       1.337\n",
      "C(workclass, contrast_mat, levels=l) Local-gov            0.6012      0.118      5.106      0.000       0.370       0.832\n",
      "C(workclass, contrast_mat, levels=l) Self-emp-inc         1.2921      0.129     10.026      0.000       1.040       1.545\n",
      "C(sex)[T. Male]                                           1.2097      0.045     27.092      0.000       1.122       1.297\n",
      "education_num                                             0.3284      0.008     41.737      0.000       0.313       0.344\n",
      "capital_gain                                              0.0003   1.08e-05     30.770      0.000       0.000       0.000\n",
      "capital_loss                                              0.0007   3.62e-05     20.617      0.000       0.001       0.001\n",
      "hours_per_week                                            0.0287      0.002     18.937      0.000       0.026       0.032\n",
      "=========================================================================================================================\n"
     ]
    }
   ],
   "source": [
    "model2 = trainModel2(trainSet)\n",
    "modelSummary(model2)"
   ]
  },
  {
   "cell_type": "code",
   "execution_count": null,
   "metadata": {},
   "outputs": [],
   "source": []
  },
  {
   "cell_type": "markdown",
   "metadata": {},
   "source": [
    "### 1.4 评估模型效果\n",
    "\n",
    "**查准率与查全率**"
   ]
  },
  {
   "cell_type": "code",
   "execution_count": 129,
   "metadata": {},
   "outputs": [],
   "source": [
    "def makePrediction(re, testSet, alpha=0.5):\n",
    "    \"\"\"\n",
    "    使用训练好的模型对测试数据做预测\n",
    "    \"\"\"\n",
    "    # 关闭pandas有关chain_assignment的警告\n",
    "    pd.options.mode.chained_assignment = None\n",
    "    # 计算事件发生的概率\n",
    "    data = testSet.copy()\n",
    "    data[\"prob\"] = re.predict(data)\n",
    "    print(\"事件发生概率（预测概率）大于0.6的数据个数：\")\n",
    "    print(data[data[\"prob\"] > 0.6].shape[0])  # 输出值为576\n",
    "    print(\"事件发生概率（预测概率）大于0.5的数据个数：\")\n",
    "    print(data[data[\"prob\"] > 0.5].shape[0])  # 输出值为834\n",
    "    # 根据预测的概率，得出最终的预测\n",
    "    data[\"pred\"] = data.apply(lambda x: 1 if x[\"prob\"] > alpha else 0, axis=1)\n",
    "    return data"
   ]
  },
  {
   "cell_type": "code",
   "execution_count": 130,
   "metadata": {},
   "outputs": [],
   "source": [
    "def evaluation(re):\n",
    "    \"\"\"\n",
    "    计算预测结果的查准查全率以及f1\n",
    "\n",
    "    参数\n",
    "    ----\n",
    "    re ：DataFrame，预测结果，里面包含两列：真实值‘lable_code’、预测值‘pred’\n",
    "    \"\"\"\n",
    "    bins = np.array([0, 0.5, 1])\n",
    "    label = re[\"label_code\"]\n",
    "    pred = re[\"pred\"]\n",
    "    tn, fp, fn, tp = np.histogram2d(label, pred, bins=bins)[0].flatten()\n",
    "    print('tp:',tp,'fp:',fp,'fn:',fn,'tn:',tn)\n",
    "    precision = tp / (tp + fp)  # 0.951\n",
    "    recall = tp / (tp + fn)  # 0.826\n",
    "    f1 = 2 * precision * recall / (precision + recall)  # 0.884\n",
    "    print(\"查准率: %.3f, 查全率: %.3f, f1: %.3f\" % (precision, recall, f1))"
   ]
  },
  {
   "cell_type": "code",
   "execution_count": 131,
   "metadata": {},
   "outputs": [
    {
     "name": "stdout",
     "output_type": "stream",
     "text": [
      "事件发生概率（预测概率）大于0.6的数据个数：\n",
      "495\n",
      "事件发生概率（预测概率）大于0.5的数据个数：\n",
      "659\n",
      "tp: 492.0 fp: 167.0 fn: 1084.0 tn: 4770.0\n",
      "查准率: 0.747, 查全率: 0.312, f1: 0.440\n"
     ]
    },
    {
     "data": {
      "text/html": [
       "<div>\n",
       "<style>\n",
       "    .dataframe thead tr:only-child th {\n",
       "        text-align: right;\n",
       "    }\n",
       "\n",
       "    .dataframe thead th {\n",
       "        text-align: left;\n",
       "    }\n",
       "\n",
       "    .dataframe tbody tr th {\n",
       "        vertical-align: top;\n",
       "    }\n",
       "</style>\n",
       "<table border=\"1\" class=\"dataframe\">\n",
       "  <thead>\n",
       "    <tr style=\"text-align: right;\">\n",
       "      <th></th>\n",
       "      <th>workclass</th>\n",
       "      <th>age</th>\n",
       "      <th>sex</th>\n",
       "      <th>hours_per_week</th>\n",
       "      <th>education_num</th>\n",
       "      <th>capital_gain</th>\n",
       "      <th>capital_loss</th>\n",
       "      <th>label</th>\n",
       "      <th>label_code</th>\n",
       "      <th>prob</th>\n",
       "      <th>pred</th>\n",
       "    </tr>\n",
       "  </thead>\n",
       "  <tbody>\n",
       "    <tr>\n",
       "      <th>19463</th>\n",
       "      <td>Private</td>\n",
       "      <td>55</td>\n",
       "      <td>Male</td>\n",
       "      <td>40</td>\n",
       "      <td>9</td>\n",
       "      <td>0</td>\n",
       "      <td>0</td>\n",
       "      <td>&lt;=50K</td>\n",
       "      <td>0</td>\n",
       "      <td>0.113848</td>\n",
       "      <td>0</td>\n",
       "    </tr>\n",
       "    <tr>\n",
       "      <th>24430</th>\n",
       "      <td>Private</td>\n",
       "      <td>38</td>\n",
       "      <td>Female</td>\n",
       "      <td>40</td>\n",
       "      <td>10</td>\n",
       "      <td>0</td>\n",
       "      <td>0</td>\n",
       "      <td>&lt;=50K</td>\n",
       "      <td>0</td>\n",
       "      <td>0.150374</td>\n",
       "      <td>0</td>\n",
       "    </tr>\n",
       "    <tr>\n",
       "      <th>19621</th>\n",
       "      <td>Private</td>\n",
       "      <td>36</td>\n",
       "      <td>Male</td>\n",
       "      <td>60</td>\n",
       "      <td>11</td>\n",
       "      <td>0</td>\n",
       "      <td>0</td>\n",
       "      <td>&lt;=50K</td>\n",
       "      <td>0</td>\n",
       "      <td>0.343604</td>\n",
       "      <td>0</td>\n",
       "    </tr>\n",
       "    <tr>\n",
       "      <th>3862</th>\n",
       "      <td>Private</td>\n",
       "      <td>41</td>\n",
       "      <td>Male</td>\n",
       "      <td>48</td>\n",
       "      <td>11</td>\n",
       "      <td>0</td>\n",
       "      <td>1848</td>\n",
       "      <td>&gt;50K</td>\n",
       "      <td>1</td>\n",
       "      <td>0.576574</td>\n",
       "      <td>1</td>\n",
       "    </tr>\n",
       "    <tr>\n",
       "      <th>27549</th>\n",
       "      <td>?</td>\n",
       "      <td>20</td>\n",
       "      <td>Female</td>\n",
       "      <td>40</td>\n",
       "      <td>10</td>\n",
       "      <td>0</td>\n",
       "      <td>0</td>\n",
       "      <td>&lt;=50K</td>\n",
       "      <td>0</td>\n",
       "      <td>0.150374</td>\n",
       "      <td>0</td>\n",
       "    </tr>\n",
       "  </tbody>\n",
       "</table>\n",
       "</div>"
      ],
      "text/plain": [
       "      workclass  age      sex  hours_per_week  education_num  capital_gain  \\\n",
       "19463   Private   55     Male              40              9             0   \n",
       "24430   Private   38   Female              40             10             0   \n",
       "19621   Private   36     Male              60             11             0   \n",
       "3862    Private   41     Male              48             11             0   \n",
       "27549         ?   20   Female              40             10             0   \n",
       "\n",
       "       capital_loss   label  label_code      prob  pred  \n",
       "19463             0   <=50K           0  0.113848     0  \n",
       "24430             0   <=50K           0  0.150374     0  \n",
       "19621             0   <=50K           0  0.343604     0  \n",
       "3862           1848    >50K           1  0.576574     1  \n",
       "27549             0   <=50K           0  0.150374     0  "
      ]
     },
     "execution_count": 131,
     "metadata": {},
     "output_type": "execute_result"
    }
   ],
   "source": [
    "# 基础逻辑回归模型的预测效果\n",
    "baseTestSet = makePrediction(baseModelRe, testSet)\n",
    "evaluation(baseTestSet)\n",
    "baseTestSet.head()"
   ]
  },
  {
   "cell_type": "code",
   "execution_count": 132,
   "metadata": {},
   "outputs": [
    {
     "data": {
      "text/html": [
       "<div>\n",
       "<style>\n",
       "    .dataframe thead tr:only-child th {\n",
       "        text-align: right;\n",
       "    }\n",
       "\n",
       "    .dataframe thead th {\n",
       "        text-align: left;\n",
       "    }\n",
       "\n",
       "    .dataframe tbody tr th {\n",
       "        vertical-align: top;\n",
       "    }\n",
       "</style>\n",
       "<table border=\"1\" class=\"dataframe\">\n",
       "  <thead>\n",
       "    <tr style=\"text-align: right;\">\n",
       "      <th></th>\n",
       "      <th>workclass</th>\n",
       "      <th>age</th>\n",
       "      <th>sex</th>\n",
       "      <th>hours_per_week</th>\n",
       "      <th>education_num</th>\n",
       "      <th>capital_gain</th>\n",
       "      <th>capital_loss</th>\n",
       "      <th>label</th>\n",
       "      <th>label_code</th>\n",
       "    </tr>\n",
       "  </thead>\n",
       "  <tbody>\n",
       "    <tr>\n",
       "      <th>19463</th>\n",
       "      <td>Private</td>\n",
       "      <td>55</td>\n",
       "      <td>Male</td>\n",
       "      <td>40</td>\n",
       "      <td>9</td>\n",
       "      <td>0</td>\n",
       "      <td>0</td>\n",
       "      <td>&lt;=50K</td>\n",
       "      <td>0</td>\n",
       "    </tr>\n",
       "    <tr>\n",
       "      <th>24430</th>\n",
       "      <td>Private</td>\n",
       "      <td>38</td>\n",
       "      <td>Female</td>\n",
       "      <td>40</td>\n",
       "      <td>10</td>\n",
       "      <td>0</td>\n",
       "      <td>0</td>\n",
       "      <td>&lt;=50K</td>\n",
       "      <td>0</td>\n",
       "    </tr>\n",
       "    <tr>\n",
       "      <th>19621</th>\n",
       "      <td>Private</td>\n",
       "      <td>36</td>\n",
       "      <td>Male</td>\n",
       "      <td>60</td>\n",
       "      <td>11</td>\n",
       "      <td>0</td>\n",
       "      <td>0</td>\n",
       "      <td>&lt;=50K</td>\n",
       "      <td>0</td>\n",
       "    </tr>\n",
       "    <tr>\n",
       "      <th>3862</th>\n",
       "      <td>Private</td>\n",
       "      <td>41</td>\n",
       "      <td>Male</td>\n",
       "      <td>48</td>\n",
       "      <td>11</td>\n",
       "      <td>0</td>\n",
       "      <td>1848</td>\n",
       "      <td>&gt;50K</td>\n",
       "      <td>1</td>\n",
       "    </tr>\n",
       "    <tr>\n",
       "      <th>27549</th>\n",
       "      <td>?</td>\n",
       "      <td>20</td>\n",
       "      <td>Female</td>\n",
       "      <td>40</td>\n",
       "      <td>10</td>\n",
       "      <td>0</td>\n",
       "      <td>0</td>\n",
       "      <td>&lt;=50K</td>\n",
       "      <td>0</td>\n",
       "    </tr>\n",
       "  </tbody>\n",
       "</table>\n",
       "</div>"
      ],
      "text/plain": [
       "      workclass  age      sex  hours_per_week  education_num  capital_gain  \\\n",
       "19463   Private   55     Male              40              9             0   \n",
       "24430   Private   38   Female              40             10             0   \n",
       "19621   Private   36     Male              60             11             0   \n",
       "3862    Private   41     Male              48             11             0   \n",
       "27549         ?   20   Female              40             10             0   \n",
       "\n",
       "       capital_loss   label  label_code  \n",
       "19463             0   <=50K           0  \n",
       "24430             0   <=50K           0  \n",
       "19621             0   <=50K           0  \n",
       "3862           1848    >50K           1  \n",
       "27549             0   <=50K           0  "
      ]
     },
     "execution_count": 132,
     "metadata": {},
     "output_type": "execute_result"
    }
   ],
   "source": [
    "testSet.head()"
   ]
  },
  {
   "cell_type": "code",
   "execution_count": 133,
   "metadata": {},
   "outputs": [
    {
     "name": "stdout",
     "output_type": "stream",
     "text": [
      "事件发生概率（预测概率）大于0.6的数据个数：\n",
      "545\n",
      "事件发生概率（预测概率）大于0.5的数据个数：\n",
      "764\n",
      "tp: 577.0 fp: 187.0 fn: 999.0 tn: 4750.0\n",
      "查准率: 0.755, 查全率: 0.366, f1: 0.493\n"
     ]
    }
   ],
   "source": [
    "# 包含定性变量的逻辑回归模型的预测效果\n",
    "testSet = makePrediction(model, testSet)\n",
    "evaluation(testSet)"
   ]
  },
  {
   "cell_type": "code",
   "execution_count": 134,
   "metadata": {},
   "outputs": [
    {
     "data": {
      "text/html": [
       "<div>\n",
       "<style>\n",
       "    .dataframe thead tr:only-child th {\n",
       "        text-align: right;\n",
       "    }\n",
       "\n",
       "    .dataframe thead th {\n",
       "        text-align: left;\n",
       "    }\n",
       "\n",
       "    .dataframe tbody tr th {\n",
       "        vertical-align: top;\n",
       "    }\n",
       "</style>\n",
       "<table border=\"1\" class=\"dataframe\">\n",
       "  <thead>\n",
       "    <tr style=\"text-align: right;\">\n",
       "      <th></th>\n",
       "      <th>workclass</th>\n",
       "      <th>age</th>\n",
       "      <th>sex</th>\n",
       "      <th>hours_per_week</th>\n",
       "      <th>education_num</th>\n",
       "      <th>capital_gain</th>\n",
       "      <th>capital_loss</th>\n",
       "      <th>label</th>\n",
       "      <th>label_code</th>\n",
       "      <th>prob</th>\n",
       "      <th>pred</th>\n",
       "    </tr>\n",
       "  </thead>\n",
       "  <tbody>\n",
       "    <tr>\n",
       "      <th>19463</th>\n",
       "      <td>Private</td>\n",
       "      <td>55</td>\n",
       "      <td>Male</td>\n",
       "      <td>40</td>\n",
       "      <td>9</td>\n",
       "      <td>0</td>\n",
       "      <td>0</td>\n",
       "      <td>&lt;=50K</td>\n",
       "      <td>0</td>\n",
       "      <td>0.148673</td>\n",
       "      <td>0</td>\n",
       "    </tr>\n",
       "    <tr>\n",
       "      <th>24430</th>\n",
       "      <td>Private</td>\n",
       "      <td>38</td>\n",
       "      <td>Female</td>\n",
       "      <td>40</td>\n",
       "      <td>10</td>\n",
       "      <td>0</td>\n",
       "      <td>0</td>\n",
       "      <td>&lt;=50K</td>\n",
       "      <td>0</td>\n",
       "      <td>0.066970</td>\n",
       "      <td>0</td>\n",
       "    </tr>\n",
       "    <tr>\n",
       "      <th>19621</th>\n",
       "      <td>Private</td>\n",
       "      <td>36</td>\n",
       "      <td>Male</td>\n",
       "      <td>60</td>\n",
       "      <td>11</td>\n",
       "      <td>0</td>\n",
       "      <td>0</td>\n",
       "      <td>&lt;=50K</td>\n",
       "      <td>0</td>\n",
       "      <td>0.386100</td>\n",
       "      <td>0</td>\n",
       "    </tr>\n",
       "    <tr>\n",
       "      <th>3862</th>\n",
       "      <td>Private</td>\n",
       "      <td>41</td>\n",
       "      <td>Male</td>\n",
       "      <td>48</td>\n",
       "      <td>11</td>\n",
       "      <td>0</td>\n",
       "      <td>1848</td>\n",
       "      <td>&gt;50K</td>\n",
       "      <td>1</td>\n",
       "      <td>0.634381</td>\n",
       "      <td>1</td>\n",
       "    </tr>\n",
       "    <tr>\n",
       "      <th>27549</th>\n",
       "      <td>?</td>\n",
       "      <td>20</td>\n",
       "      <td>Female</td>\n",
       "      <td>40</td>\n",
       "      <td>10</td>\n",
       "      <td>0</td>\n",
       "      <td>0</td>\n",
       "      <td>&lt;=50K</td>\n",
       "      <td>0</td>\n",
       "      <td>0.066970</td>\n",
       "      <td>0</td>\n",
       "    </tr>\n",
       "  </tbody>\n",
       "</table>\n",
       "</div>"
      ],
      "text/plain": [
       "      workclass  age      sex  hours_per_week  education_num  capital_gain  \\\n",
       "19463   Private   55     Male              40              9             0   \n",
       "24430   Private   38   Female              40             10             0   \n",
       "19621   Private   36     Male              60             11             0   \n",
       "3862    Private   41     Male              48             11             0   \n",
       "27549         ?   20   Female              40             10             0   \n",
       "\n",
       "       capital_loss   label  label_code      prob  pred  \n",
       "19463             0   <=50K           0  0.148673     0  \n",
       "24430             0   <=50K           0  0.066970     0  \n",
       "19621             0   <=50K           0  0.386100     0  \n",
       "3862           1848    >50K           1  0.634381     1  \n",
       "27549             0   <=50K           0  0.066970     0  "
      ]
     },
     "execution_count": 134,
     "metadata": {},
     "output_type": "execute_result"
    }
   ],
   "source": [
    "testSet.head()"
   ]
  },
  {
   "cell_type": "markdown",
   "metadata": {},
   "source": [
    "**ROC曲线与AUC**"
   ]
  },
  {
   "cell_type": "code",
   "execution_count": 135,
   "metadata": {},
   "outputs": [],
   "source": [
    "from sklearn import metrics"
   ]
  },
  {
   "cell_type": "code",
   "execution_count": 136,
   "metadata": {},
   "outputs": [
    {
     "data": {
      "image/png": "[encoded data removed]",
      "text/plain": [
       "<matplotlib.figure.Figure at 0xbcefc50>"
      ]
     },
     "metadata": {},
     "output_type": "display_data"
    }
   ],
   "source": [
    "fpr, tpr, thresholds = metrics.roc_curve(testSet['label_code'], testSet['prob'])\n",
    "auc = metrics.auc(fpr,tpr)\n",
    "# 为在Matplotlib中显示中文，设置特殊字体\n",
    "plt.rcParams[\"font.sans-serif\"]=[\"SimHei\"]\n",
    "# 创建一个图形框\n",
    "fig = plt.figure(figsize=(6, 6), dpi=80)\n",
    "# 在图形框里只画一幅图\n",
    "ax = fig.add_subplot(1, 1, 1)\n",
    "ax.set_title(\"%s\" % \"ROC曲线\".decode(\"utf-8\"))\n",
    "ax.set_xlabel(\"False positive rate\")\n",
    "ax.set_ylabel(\"True positive rate\")\n",
    "ax.plot([0, 1], [0, 1], \"r--\")\n",
    "ax.set_xlim([0, 1])\n",
    "ax.set_ylim([0, 1])\n",
    "ax.plot(fpr, tpr, \"k\", label=\"%s; %s = %0.2f\" % (\"加入性别后的ROC曲线\".decode(\"utf-8\"),\"曲线下面积（AUC）\".decode(\"utf-8\"), auc))\n",
    "fpr, tpr, thresholds = metrics.roc_curve(testSet['label_code'], baseTestSet['prob'])\n",
    "auc = metrics.auc(fpr,tpr)\n",
    "ax.plot(fpr, tpr, \"b--\", label=\"%s; %s = %0.2f\" % (\"加入性别前的ROC曲线\".decode(\"utf-8\"),\"曲线下面积（AUC）\".decode(\"utf-8\"), auc))\n",
    "legend = plt.legend(shadow=True)\n",
    "plt.show()"
   ]
  },
  {
   "cell_type": "code",
   "execution_count": 138,
   "metadata": {},
   "outputs": [
    {
     "data": {
      "text/plain": [
       "array([' State-gov', ' Self-emp-not-inc', ' Private', ' Federal-gov',\n",
       "       ' Local-gov', ' ?', ' Self-emp-inc', ' Without-pay', ' Never-worked'], dtype=object)"
      ]
     },
     "execution_count": 138,
     "metadata": {},
     "output_type": "execute_result"
    }
   ],
   "source": [
    "data['workclass'].unique()"
   ]
  },
  {
   "cell_type": "code",
   "execution_count": null,
   "metadata": {},
   "outputs": [],
   "source": []
  }
 ],
 "metadata": {
  "kernelspec": {
   "display_name": "Python 2",
   "language": "python",
   "name": "python2"
  },
  "language_info": {
   "codemirror_mode": {
    "name": "ipython",
    "version": 2
   },
   "file_extension": ".py",
   "mimetype": "text/x-python",
   "name": "python",
   "nbconvert_exporter": "python",
   "pygments_lexer": "ipython2",
   "version": "2.7.13"
  }
 },
 "nbformat": 4,
 "nbformat_minor": 2
}
