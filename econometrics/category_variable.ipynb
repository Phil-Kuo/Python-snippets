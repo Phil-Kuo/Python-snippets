{
 "cells": [
  {
   "cell_type": "markdown",
   "metadata": {},
   "source": [
    "# 定性变量的处理"
   ]
  },
  {
   "cell_type": "markdown",
   "metadata": {},
   "source": [
    "## 1. 目标要求\n",
    "针对二元分类问题搭建逻辑回归模型，所采用数据是美国个人收入的普查数据,来源为美国加州大学欧文分校。在模型中加入定性变量，利用逻辑回归模型预测个人的年收入分类（>50k、<=50k）。"
   ]
  },
  {
   "cell_type": "markdown",
   "metadata": {},
   "source": [
    "## 2. 数据探索分析：直观印象"
   ]
  },
  {
   "cell_type": "code",
   "execution_count": 1,
   "metadata": {},
   "outputs": [
    {
     "name": "stderr",
     "output_type": "stream",
     "text": [
      "C:\\Users\\YiMin\\AppData\\Local\\conda\\conda\\envs\\py27\\lib\\site-packages\\statsmodels\\compat\\pandas.py:56: FutureWarning: The pandas.core.datetools module is deprecated and will be removed in a future version. Please use the pandas.tseries module instead.\n",
      "  from pandas.core import datetools\n"
     ]
    }
   ],
   "source": [
    "from __future__ import print_function\n",
    "import os\n",
    "\n",
    "import numpy as np\n",
    "import matplotlib.pyplot as plt\n",
    "import pandas as pd\n",
    "from patsy import ContrastMatrix\n",
    "from sklearn.model_selection import train_test_split\n",
    "from sklearn import metrics\n",
    "import statsmodels.api as sm\n",
    "from statsmodels.graphics.mosaicplot import mosaic"
   ]
  },
  {
   "cell_type": "code",
   "execution_count": 2,
   "metadata": {
    "scrolled": false
   },
   "outputs": [
    {
     "data": {
      "text/html": [
       "<div>\n",
       "<style>\n",
       "    .dataframe thead tr:only-child th {\n",
       "        text-align: right;\n",
       "    }\n",
       "\n",
       "    .dataframe thead th {\n",
       "        text-align: left;\n",
       "    }\n",
       "\n",
       "    .dataframe tbody tr th {\n",
       "        vertical-align: top;\n",
       "    }\n",
       "</style>\n",
       "<table border=\"1\" class=\"dataframe\">\n",
       "  <thead>\n",
       "    <tr style=\"text-align: right;\">\n",
       "      <th></th>\n",
       "      <th>age</th>\n",
       "      <th>workclass</th>\n",
       "      <th>fnlwgt</th>\n",
       "      <th>education</th>\n",
       "      <th>education_num</th>\n",
       "      <th>martial_status</th>\n",
       "      <th>occupation</th>\n",
       "      <th>relationship</th>\n",
       "      <th>race</th>\n",
       "      <th>sex</th>\n",
       "      <th>capital_gain</th>\n",
       "      <th>capital_loss</th>\n",
       "      <th>hours_per_week</th>\n",
       "      <th>native_country</th>\n",
       "      <th>label</th>\n",
       "    </tr>\n",
       "  </thead>\n",
       "  <tbody>\n",
       "    <tr>\n",
       "      <th>0</th>\n",
       "      <td>39</td>\n",
       "      <td>State-gov</td>\n",
       "      <td>77516</td>\n",
       "      <td>Bachelors</td>\n",
       "      <td>13</td>\n",
       "      <td>Never-married</td>\n",
       "      <td>Adm-clerical</td>\n",
       "      <td>Not-in-family</td>\n",
       "      <td>White</td>\n",
       "      <td>Male</td>\n",
       "      <td>2174</td>\n",
       "      <td>0</td>\n",
       "      <td>40</td>\n",
       "      <td>United-States</td>\n",
       "      <td>&lt;=50K</td>\n",
       "    </tr>\n",
       "    <tr>\n",
       "      <th>1</th>\n",
       "      <td>50</td>\n",
       "      <td>Self-emp-not-inc</td>\n",
       "      <td>83311</td>\n",
       "      <td>Bachelors</td>\n",
       "      <td>13</td>\n",
       "      <td>Married-civ-spouse</td>\n",
       "      <td>Exec-managerial</td>\n",
       "      <td>Husband</td>\n",
       "      <td>White</td>\n",
       "      <td>Male</td>\n",
       "      <td>0</td>\n",
       "      <td>0</td>\n",
       "      <td>13</td>\n",
       "      <td>United-States</td>\n",
       "      <td>&lt;=50K</td>\n",
       "    </tr>\n",
       "    <tr>\n",
       "      <th>2</th>\n",
       "      <td>38</td>\n",
       "      <td>Private</td>\n",
       "      <td>215646</td>\n",
       "      <td>HS-grad</td>\n",
       "      <td>9</td>\n",
       "      <td>Divorced</td>\n",
       "      <td>Handlers-cleaners</td>\n",
       "      <td>Not-in-family</td>\n",
       "      <td>White</td>\n",
       "      <td>Male</td>\n",
       "      <td>0</td>\n",
       "      <td>0</td>\n",
       "      <td>40</td>\n",
       "      <td>United-States</td>\n",
       "      <td>&lt;=50K</td>\n",
       "    </tr>\n",
       "    <tr>\n",
       "      <th>3</th>\n",
       "      <td>53</td>\n",
       "      <td>Private</td>\n",
       "      <td>234721</td>\n",
       "      <td>11th</td>\n",
       "      <td>7</td>\n",
       "      <td>Married-civ-spouse</td>\n",
       "      <td>Handlers-cleaners</td>\n",
       "      <td>Husband</td>\n",
       "      <td>Black</td>\n",
       "      <td>Male</td>\n",
       "      <td>0</td>\n",
       "      <td>0</td>\n",
       "      <td>40</td>\n",
       "      <td>United-States</td>\n",
       "      <td>&lt;=50K</td>\n",
       "    </tr>\n",
       "    <tr>\n",
       "      <th>4</th>\n",
       "      <td>28</td>\n",
       "      <td>Private</td>\n",
       "      <td>338409</td>\n",
       "      <td>Bachelors</td>\n",
       "      <td>13</td>\n",
       "      <td>Married-civ-spouse</td>\n",
       "      <td>Prof-specialty</td>\n",
       "      <td>Wife</td>\n",
       "      <td>Black</td>\n",
       "      <td>Female</td>\n",
       "      <td>0</td>\n",
       "      <td>0</td>\n",
       "      <td>40</td>\n",
       "      <td>Cuba</td>\n",
       "      <td>&lt;=50K</td>\n",
       "    </tr>\n",
       "  </tbody>\n",
       "</table>\n",
       "</div>"
      ],
      "text/plain": [
       "   age          workclass  fnlwgt   education  education_num  \\\n",
       "0   39          State-gov   77516   Bachelors             13   \n",
       "1   50   Self-emp-not-inc   83311   Bachelors             13   \n",
       "2   38            Private  215646     HS-grad              9   \n",
       "3   53            Private  234721        11th              7   \n",
       "4   28            Private  338409   Bachelors             13   \n",
       "\n",
       "        martial_status          occupation    relationship    race      sex  \\\n",
       "0        Never-married        Adm-clerical   Not-in-family   White     Male   \n",
       "1   Married-civ-spouse     Exec-managerial         Husband   White     Male   \n",
       "2             Divorced   Handlers-cleaners   Not-in-family   White     Male   \n",
       "3   Married-civ-spouse   Handlers-cleaners         Husband   Black     Male   \n",
       "4   Married-civ-spouse      Prof-specialty            Wife   Black   Female   \n",
       "\n",
       "   capital_gain  capital_loss  hours_per_week  native_country   label  \n",
       "0          2174             0              40   United-States   <=50K  \n",
       "1             0             0              13   United-States   <=50K  \n",
       "2             0             0              40   United-States   <=50K  \n",
       "3             0             0              40   United-States   <=50K  \n",
       "4             0             0              40            Cuba   <=50K  "
      ]
     },
     "execution_count": 2,
     "metadata": {},
     "output_type": "execute_result"
    }
   ],
   "source": [
    "# 读取数据\n",
    "dataPath = \"./data/adult.data\"\n",
    "data = pd.read_csv(dataPath)\n",
    "data.head()"
   ]
  },
  {
   "cell_type": "code",
   "execution_count": 3,
   "metadata": {},
   "outputs": [],
   "source": [
    "# 选取特定列的数据进行后续分析\n",
    "cols = [\"age\", \"sex\",\"hours_per_week\", \"education_num\", \"capital_gain\",\"capital_loss\",\"label\"]\n",
    "data = data[cols]"
   ]
  },
  {
   "cell_type": "markdown",
   "metadata": {},
   "source": [
    "利用pandas，将文本型类型变量转化为数字变量\n",
    "\n",
    "在源数据的基础上新生成一个变量“label_code”,根据label的不同取值对应生成，共有两个取值：0表示“ <=50K ”，1表示“ >50K ”。"
   ]
  },
  {
   "cell_type": "code",
   "execution_count": 4,
   "metadata": {},
   "outputs": [
    {
     "data": {
      "text/html": [
       "<div>\n",
       "<style>\n",
       "    .dataframe thead tr:only-child th {\n",
       "        text-align: right;\n",
       "    }\n",
       "\n",
       "    .dataframe thead th {\n",
       "        text-align: left;\n",
       "    }\n",
       "\n",
       "    .dataframe tbody tr th {\n",
       "        vertical-align: top;\n",
       "    }\n",
       "</style>\n",
       "<table border=\"1\" class=\"dataframe\">\n",
       "  <thead>\n",
       "    <tr style=\"text-align: right;\">\n",
       "      <th></th>\n",
       "      <th>age</th>\n",
       "      <th>sex</th>\n",
       "      <th>hours_per_week</th>\n",
       "      <th>education_num</th>\n",
       "      <th>capital_gain</th>\n",
       "      <th>capital_loss</th>\n",
       "      <th>label</th>\n",
       "      <th>label_code</th>\n",
       "    </tr>\n",
       "  </thead>\n",
       "  <tbody>\n",
       "    <tr>\n",
       "      <th>0</th>\n",
       "      <td>39</td>\n",
       "      <td>Male</td>\n",
       "      <td>40</td>\n",
       "      <td>13</td>\n",
       "      <td>2174</td>\n",
       "      <td>0</td>\n",
       "      <td>&lt;=50K</td>\n",
       "      <td>0</td>\n",
       "    </tr>\n",
       "    <tr>\n",
       "      <th>1</th>\n",
       "      <td>50</td>\n",
       "      <td>Male</td>\n",
       "      <td>13</td>\n",
       "      <td>13</td>\n",
       "      <td>0</td>\n",
       "      <td>0</td>\n",
       "      <td>&lt;=50K</td>\n",
       "      <td>0</td>\n",
       "    </tr>\n",
       "    <tr>\n",
       "      <th>2</th>\n",
       "      <td>38</td>\n",
       "      <td>Male</td>\n",
       "      <td>40</td>\n",
       "      <td>9</td>\n",
       "      <td>0</td>\n",
       "      <td>0</td>\n",
       "      <td>&lt;=50K</td>\n",
       "      <td>0</td>\n",
       "    </tr>\n",
       "    <tr>\n",
       "      <th>3</th>\n",
       "      <td>53</td>\n",
       "      <td>Male</td>\n",
       "      <td>40</td>\n",
       "      <td>7</td>\n",
       "      <td>0</td>\n",
       "      <td>0</td>\n",
       "      <td>&lt;=50K</td>\n",
       "      <td>0</td>\n",
       "    </tr>\n",
       "    <tr>\n",
       "      <th>4</th>\n",
       "      <td>28</td>\n",
       "      <td>Female</td>\n",
       "      <td>40</td>\n",
       "      <td>13</td>\n",
       "      <td>0</td>\n",
       "      <td>0</td>\n",
       "      <td>&lt;=50K</td>\n",
       "      <td>0</td>\n",
       "    </tr>\n",
       "  </tbody>\n",
       "</table>\n",
       "</div>"
      ],
      "text/plain": [
       "   age      sex  hours_per_week  education_num  capital_gain  capital_loss  \\\n",
       "0   39     Male              40             13          2174             0   \n",
       "1   50     Male              13             13             0             0   \n",
       "2   38     Male              40              9             0             0   \n",
       "3   53     Male              40              7             0             0   \n",
       "4   28   Female              40             13             0             0   \n",
       "\n",
       "    label  label_code  \n",
       "0   <=50K           0  \n",
       "1   <=50K           0  \n",
       "2   <=50K           0  \n",
       "3   <=50K           0  \n",
       "4   <=50K           0  "
      ]
     },
     "execution_count": 4,
     "metadata": {},
     "output_type": "execute_result"
    }
   ],
   "source": [
    "data[\"label_code\"] = pd.Categorical(data['label']).codes\n",
    "data.head()"
   ]
  },
  {
   "cell_type": "markdown",
   "metadata": {},
   "source": [
    "** 各变量的分布情况 **\n",
    "\n",
    "采用直方图（histogram）将变量的分布情况可视化"
   ]
  },
  {
   "cell_type": "code",
   "execution_count": 8,
   "metadata": {
    "scrolled": false
   },
   "outputs": [
    {
     "data": {
      "image/png": "[encoded data removed]",
      "text/plain": [
       "<matplotlib.figure.Figure at 0xda22e48>"
      ]
     },
     "metadata": {},
     "output_type": "display_data"
    }
   ],
   "source": [
    "# 画直方图，直观了解数据\n",
    "data[[\"age\", \"hours_per_week\", \"education_num\", \"label_code\"]].hist(\n",
    "        rwidth=0.9, figsize=(8, 8), alpha=0.6, color=\"grey\")\n",
    "plt.show()"
   ]
  },
  {
   "cell_type": "markdown",
   "metadata": {},
   "source": [
    "**利用统计指标分析数据**\n",
    "\n",
    "数据的基本统计信息，如平均值、标准差、极值等"
   ]
  },
  {
   "cell_type": "code",
   "execution_count": null,
   "metadata": {},
   "outputs": [],
   "source": [
    "data.describe()"
   ]
  },
  {
   "cell_type": "markdown",
   "metadata": {},
   "source": [
    "利用交叉报表（crosstab）来描述两个变量之间的关系"
   ]
  },
  {
   "cell_type": "code",
   "execution_count": 11,
   "metadata": {},
   "outputs": [
    {
     "name": "stdout",
     "output_type": "stream",
     "text": [
      "显示education_num, label交叉报表：\n",
      "label           <=50K   >50K\n",
      "education_num               \n",
      "(0.9, 9.0]      12835   1919\n",
      "(9.0, 10.0]      5904   1387\n",
      "(10.0, 12.0]     1823    626\n",
      "(12.0, 16.0]     4158   3909\n",
      "显示hours_per_week, label交叉报表：\n",
      "label              <=50K      >50K\n",
      "hours_per_week                    \n",
      "(0.902, 20.6]   0.933402  0.066598\n",
      "(20.6, 40.2]    0.810991  0.189009\n",
      "(40.2, 59.8]    0.599200  0.400800\n",
      "(59.8, 79.4]    0.584670  0.415330\n",
      "(79.4, 99.0]    0.648094  0.351906\n"
     ]
    },
    {
     "data": {
      "image/png": "[encoded data removed]",
      "text/plain": [
       "<matplotlib.figure.Figure at 0xc233b70>"
      ]
     },
     "metadata": {},
     "output_type": "display_data"
    },
    {
     "data": {
      "image/png": "[encoded data removed]",
      "text/plain": [
       "<matplotlib.figure.Figure at 0xc233518>"
      ]
     },
     "metadata": {},
     "output_type": "display_data"
    }
   ],
   "source": [
    "# 计算education_num, label交叉报表\n",
    "cross1 = pd.crosstab(pd.qcut(data[\"education_num\"],  q=[0, .25, .5, .75, 1], precision=1), data[\"label\"])\n",
    "print(\"显示education_num, label交叉报表：\")\n",
    "print(cross1)\n",
    "# 将交叉报表图形化\n",
    "props = lambda key: {\"color\": \"#aaaaaa\" if ' >50K' in key else \"#C6E2FF\"}\n",
    "mosaic(cross1[[\" >50K\", \" <=50K\"]].stack(), properties=props)\n",
    "# 计算hours_per_week, label交叉报表\n",
    "cross2 = pd.crosstab(pd.cut(data[\"hours_per_week\"], 5), data[\"label\"])\n",
    "# 将交叉报表归一化，利于分析数据\n",
    "cross2_norm = cross2.div(cross2.sum(1).astype(float), axis=0)\n",
    "print(\"显示hours_per_week, label交叉报表：\")\n",
    "print(cross2_norm)\n",
    "# 图形化归一化后的交叉报表\n",
    "cross2_norm.plot(kind=\"bar\", color=[\"#C6E2FF\", \"0.45\"], rot=0)\n",
    "plt.show()"
   ]
  },
  {
   "cell_type": "code",
   "execution_count": 10,
   "metadata": {},
   "outputs": [
    {
     "name": "stdout",
     "output_type": "stream",
     "text": [
      "显示sex, label交叉报表：\n",
      "label     <=50K   >50K\n",
      "sex                   \n",
      " Female    9592   1179\n",
      " Male     15128   6662\n"
     ]
    },
    {
     "data": {
      "image/png": "[encoded data removed]",
      "text/plain": [
       "<matplotlib.figure.Figure at 0xdd229e8>"
      ]
     },
     "metadata": {},
     "output_type": "display_data"
    }
   ],
   "source": [
    "# 计算education_num, label交叉报表\n",
    "cross1 = pd.crosstab(data[\"sex\"], data[\"label\"])\n",
    "print(\"显示sex, label交叉报表：\")\n",
    "print(cross1)\n",
    "# 将交叉报表图形化\n",
    "props = lambda key: {\"color\": \"#aaaaaa\" if ' >50K' in key else \"#C6E2FF\"}\n",
    "mosaic(cross1[[\" >50K\", \" <=50K\"]].stack(), properties=props)\n",
    "plt.show()"
   ]
  },
  {
   "cell_type": "markdown",
   "metadata": {},
   "source": [
    "### 1.2 搭建模型\n",
    "\n",
    "**使用第三方库Statsmodels搭建模型，并利用统计学方法分析模型参数估计值的稳定性**"
   ]
  },
  {
   "cell_type": "code",
   "execution_count": 15,
   "metadata": {},
   "outputs": [],
   "source": [
    "def trainModel(data):\n",
    "    \"\"\"\n",
    "    搭建逻辑回归模型，并训练模型\n",
    "    \"\"\"\n",
    "    formula = \"label_code ~ C(sex) + education_num + capital_gain + capital_loss + hours_per_week\"\n",
    "    model = sm.Logit.from_formula(formula, data=data)\n",
    "    re = model.fit()\n",
    "    return re"
   ]
  },
  {
   "cell_type": "code",
   "execution_count": 18,
   "metadata": {},
   "outputs": [],
   "source": [
    "def modelSummary(re):\n",
    "    \"\"\"\n",
    "    分析逻辑回归模型的统计性质\n",
    "    \"\"\"\n",
    "    # 整体统计分析结果\n",
    "    print(re.summary())"
   ]
  },
  {
   "cell_type": "code",
   "execution_count": 19,
   "metadata": {
    "scrolled": false
   },
   "outputs": [
    {
     "name": "stdout",
     "output_type": "stream",
     "text": [
      "Optimization terminated successfully.\n",
      "         Current function value: 0.409236\n",
      "         Iterations 8\n",
      "                           Logit Regression Results                           \n",
      "==============================================================================\n",
      "Dep. Variable:             label_code   No. Observations:                26048\n",
      "Model:                          Logit   Df Residuals:                    26042\n",
      "Method:                           MLE   Df Model:                            5\n",
      "Date:                Wed, 07 Nov 2018   Pseudo R-squ.:                  0.2582\n",
      "Time:                        22:56:02   Log-Likelihood:                -10660.\n",
      "converged:                       True   LL-Null:                       -14370.\n",
      "                                        LLR p-value:                     0.000\n",
      "===================================================================================\n",
      "                      coef    std err          z      P>|z|      [0.025      0.975]\n",
      "-----------------------------------------------------------------------------------\n",
      "Intercept          -7.1944      0.112    -64.011      0.000      -7.415      -6.974\n",
      "C(sex)[T. Male]     1.2221      0.044     27.602      0.000       1.135       1.309\n",
      "education_num       0.3329      0.008     43.145      0.000       0.318       0.348\n",
      "capital_gain        0.0003   1.08e-05     31.073      0.000       0.000       0.000\n",
      "capital_loss        0.0007    3.6e-05     20.798      0.000       0.001       0.001\n",
      "hours_per_week      0.0308      0.001     20.857      0.000       0.028       0.034\n",
      "===================================================================================\n"
     ]
    }
   ],
   "source": [
    "# 将数据分为训练集和测试集\n",
    "trainSet, testSet = train_test_split(data, test_size=0.2, random_state=2310)\n",
    "# 训练模型并分析模型效果\n",
    "model = trainModel(trainSet)\n",
    "modelSummary(model)"
   ]
  },
  {
   "cell_type": "markdown",
   "metadata": {},
   "source": [
    "### 1.4 评估模型效果\n",
    "\n",
    "**查准率与查全率**"
   ]
  },
  {
   "cell_type": "code",
   "execution_count": 20,
   "metadata": {},
   "outputs": [],
   "source": [
    "def makePrediction(re, testSet, alpha=0.5):\n",
    "    \"\"\"\n",
    "    使用训练好的模型对测试数据做预测\n",
    "    \"\"\"\n",
    "    # 关闭pandas有关chain_assignment的警告\n",
    "    pd.options.mode.chained_assignment = None\n",
    "    # 计算事件发生的概率\n",
    "    testSet[\"prob\"] = re.predict(testSet)\n",
    "    print(\"事件发生概率（预测概率）大于0.6的数据个数：\")\n",
    "    print(testSet[testSet[\"prob\"] > 0.6].shape[0])  # 输出值为576\n",
    "    print(\"事件发生概率（预测概率）大于0.5的数据个数：\")\n",
    "    print(testSet[testSet[\"prob\"] > 0.5].shape[0])  # 输出值为834\n",
    "    # 根据预测的概率，得出最终的预测\n",
    "    testSet[\"pred\"] = testSet.apply(lambda x: 1 if x[\"prob\"] > alpha else 0, axis=1)\n",
    "    return testSet"
   ]
  },
  {
   "cell_type": "code",
   "execution_count": 21,
   "metadata": {},
   "outputs": [],
   "source": [
    "def evaluation(re):\n",
    "    \"\"\"\n",
    "    计算预测结果的查准查全率以及f1\n",
    "\n",
    "    参数\n",
    "    ----\n",
    "    re ：DataFrame，预测结果，里面包含两列：真实值‘lable_code’、预测值‘pred’\n",
    "    \"\"\"\n",
    "    bins = np.array([0, 0.5, 1])\n",
    "    label = re[\"label_code\"]\n",
    "    pred = re[\"pred\"]\n",
    "    tn, fp, fn, tp = np.histogram2d(label, pred, bins=bins)[0].flatten()\n",
    "    print('tp:',tp,'fp:',fp,'fn:',fn,'tn:',tn)\n",
    "    precision = tp / (tp + fp)  # 0.951\n",
    "    recall = tp / (tp + fn)  # 0.826\n",
    "    f1 = 2 * precision * recall / (precision + recall)  # 0.884\n",
    "    print(\"查准率: %.3f, 查全率: %.3f, f1: %.3f\" % (precision, recall, f1))"
   ]
  },
  {
   "cell_type": "code",
   "execution_count": 22,
   "metadata": {},
   "outputs": [
    {
     "name": "stdout",
     "output_type": "stream",
     "text": [
      "事件发生概率（预测概率）大于0.6的数据个数：\n",
      "545\n",
      "事件发生概率（预测概率）大于0.5的数据个数：\n",
      "764\n",
      "tp: 577.0 fp: 187.0 fn: 999.0 tn: 4750.0\n",
      "查准率: 0.755, 查全率: 0.366, f1: 0.493\n"
     ]
    }
   ],
   "source": [
    "testSet = makePrediction(model, testSet)\n",
    "evaluation(testSet)"
   ]
  },
  {
   "cell_type": "markdown",
   "metadata": {},
   "source": [
    "**ROC曲线与AUC**"
   ]
  },
  {
   "cell_type": "code",
   "execution_count": 23,
   "metadata": {},
   "outputs": [],
   "source": [
    "from sklearn import metrics"
   ]
  },
  {
   "cell_type": "code",
   "execution_count": 28,
   "metadata": {},
   "outputs": [],
   "source": [
    "fpr, tpr, thresholds = metrics.roc_curve(testSet['label_code'], testSet['prob'])\n",
    "auc = metrics.auc(fpr,tpr)"
   ]
  },
  {
   "cell_type": "code",
   "execution_count": 31,
   "metadata": {},
   "outputs": [
    {
     "data": {
      "image/png": "[encoded data removed]",
      "text/plain": [
       "<matplotlib.figure.Figure at 0xe00ac18>"
      ]
     },
     "metadata": {},
     "output_type": "display_data"
    }
   ],
   "source": [
    "# 为在Matplotlib中显示中文，设置特殊字体\n",
    "plt.rcParams[\"font.sans-serif\"]=[\"SimHei\"]\n",
    "# 创建一个图形框\n",
    "fig = plt.figure(figsize=(6, 6), dpi=80)\n",
    "# 在图形框里只画一幅图\n",
    "ax = fig.add_subplot(1, 1, 1)\n",
    "ax.set_title(\"%s\" % \"ROC曲线\".decode(\"utf-8\"))\n",
    "ax.set_xlabel(\"False positive rate\")\n",
    "ax.set_ylabel(\"True positive rate\")\n",
    "ax.plot([0, 1], [0, 1], \"r--\")\n",
    "ax.set_xlim([0, 1])\n",
    "ax.set_ylim([0, 1])\n",
    "ax.plot(fpr, tpr, \"k\", label=\"%s; %s = %0.2f\" % (\"加入性别后的ROC曲线\".decode(\"utf-8\"),\"曲线下面积（AUC）\".decode(\"utf-8\"), auc))\n",
    "legend = plt.legend(shadow=True)\n",
    "plt.show()"
   ]
  },
  {
   "cell_type": "code",
   "execution_count": null,
   "metadata": {},
   "outputs": [],
   "source": []
  }
 ],
 "metadata": {
  "kernelspec": {
   "display_name": "Python 2",
   "language": "python",
   "name": "python2"
  },
  "language_info": {
   "codemirror_mode": {
    "name": "ipython",
    "version": 2
   },
   "file_extension": ".py",
   "mimetype": "text/x-python",
   "name": "python",
   "nbconvert_exporter": "python",
   "pygments_lexer": "ipython2",
   "version": "2.7.13"
  }
 },
 "nbformat": 4,
 "nbformat_minor": 2
}
