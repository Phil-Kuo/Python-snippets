{
 "cells": [
  {
   "cell_type": "markdown",
   "metadata": {},
   "source": [
    "# 粒子群算法"
   ]
  },
  {
   "cell_type": "markdown",
   "metadata": {},
   "source": [
    "## 写在前面\n",
    "\n",
    "粒子群优化算法(Particle swarm optimization, PSO) 是一种进化计算技术（evolutionary computation）。该算法源于对鸟群捕食的行为研究。粒子群优化算法的基本思想：是通过群体中个体之间的协作和信息共享来寻找最优解。\n",
    "\n",
    "鸟被抽象为没有质量和体积的微粒(点)，并延伸到N维空间，粒子i在N维空间的位置表示为矢量Xi＝(x1，x2，…，xN)，飞行速度表示为矢量Vi＝(v1，v2，…，vN)。\n",
    "\n",
    "每个粒子都可以看作问题的一个潜在最优解，用位置、速度和适应度值这三项指标来表征一个粒子。每个粒子都有一个由目标函数决定的适应值(fitness value)，并且知道自己到目前为止发现的最好位置(pBestPos)和现在的位置Xi。这个可以看作是粒子自己的飞行经验。除此之外，每个粒子还知道到目前为止整个群体中所有粒子发现的最好位置(gBestPos)(gBestPos是pBestPos中的最好值)，这个可以看作是粒子同伴的经验。粒子就是通过自己的经验和同伴中最好的经验来决定下一步的运动。 \n",
    "\n",
    "标准PSO算法的流程：\n",
    "\n",
    "     1）初始化一群粒子(群体规模为N)，包括随机位置和速度；\n",
    "     2）评价每个粒子的适应度；\n",
    "     3）对每个粒子，将其适应值与其经过的最好位置pBestPos作比较，如果较好，则将其作为当前的最好位置pBestPos；\n",
    "     4）对每个粒子，将其适应值与其经过的最好位置gBestPos作比较，如果较好，则将其作为当前的最好位置gBestPos；\n",
    "     5）根据公式(2)、(3)调整粒子速度和位置；\n",
    "     6）未达到结束条件则转第2）步。"
   ]
  },
  {
   "cell_type": "code",
   "execution_count": 141,
   "metadata": {},
   "outputs": [],
   "source": [
    "import numpy as np\n",
    "import math\n",
    "import matplotlib.pyplot as plt"
   ]
  },
  {
   "cell_type": "markdown",
   "metadata": {},
   "source": [
    "### 1.1 PSO算法参数设置"
   ]
  },
  {
   "cell_type": "code",
   "execution_count": 142,
   "metadata": {},
   "outputs": [],
   "source": [
    "# 惯性权重：w\n",
    "w0 = 0.9\n",
    "\n",
    "# 学习因子或加速因子：lr\n",
    "lr = (0.49445,1.49445)\n",
    "\n",
    "# 最大迭代次数：maxgen\n",
    "maxgen = 300\n",
    "\n",
    "# 种群规模：n \n",
    "n = 50\n",
    "\n",
    "# 粒子的位置和速度的最大最小值：rangePos, rangeV\n",
    "rangePos = (-2*math.pi , 2*math.pi)\n",
    "rangeV = (-0.5,0.5)"
   ]
  },
  {
   "cell_type": "markdown",
   "metadata": {},
   "source": [
    "### 1.2 种群初始化"
   ]
  },
  {
   "cell_type": "code",
   "execution_count": 143,
   "metadata": {},
   "outputs": [],
   "source": [
    "# 适应度函数\n",
    "def func(x):\n",
    "    # x输入粒子位置\n",
    "    # y 粒子适应度值\n",
    "    if (x[0]==0)&(x[1]==0):\n",
    "        y = np.exp((np.cos(2*np.pi*x[0])+np.cos(2*np.pi*x[1]))/2)-2.71289\n",
    "    else:\n",
    "        y = np.sin(np.sqrt(x[0]**2+x[1]**2))/np.sqrt(x[0]**2+x[1]**2)+np.exp((np.cos(2*np.pi*x[0])+np.cos(2*np.pi*x[1]))/2)-2.71289\n",
    "    return y"
   ]
  },
  {
   "cell_type": "code",
   "execution_count": 144,
   "metadata": {},
   "outputs": [],
   "source": [
    "pos = np.zeros((n,2))\n",
    "v = np.zeros((n,2))\n",
    "fitness = np.zeros(n)\n",
    "\n",
    "for i in range(n):\n",
    "    pos[i] = [(np.random.rand()-0.5)*rangePos[0]*2,(np.random.rand()-0.5)*rangePos[1]*2]\n",
    "    v[i] = [(np.random.rand()-0.5)*rangePos[0]*2,(np.random.rand()-0.5)*rangePos[1]*2]\n",
    "    fitness[i] = func(pos[i])"
   ]
  },
  {
   "cell_type": "markdown",
   "metadata": {},
   "source": [
    "### 1.3 寻找初始极值"
   ]
  },
  {
   "cell_type": "code",
   "execution_count": 145,
   "metadata": {},
   "outputs": [],
   "source": [
    "# 群体最优的粒子位置及其适应度值\n",
    "gBestPos, gBestFitness = pos[fitness.argmax()].copy(), fitness.max()\n",
    "# 粒子的最优位置及其适应度值\n",
    "pBestPos, pBestFitness = pos.copy(), fitness.copy()"
   ]
  },
  {
   "cell_type": "markdown",
   "metadata": {},
   "source": [
    "### 1.4 迭代寻优"
   ]
  },
  {
   "cell_type": "code",
   "execution_count": 146,
   "metadata": {},
   "outputs": [],
   "source": [
    "result = np.zeros(maxgen)"
   ]
  },
  {
   "cell_type": "code",
   "execution_count": 147,
   "metadata": {},
   "outputs": [],
   "source": [
    "for i in range(maxgen):\n",
    "#     w = w0 # 恒定惯性权重\n",
    "#     w = w0 - 0.4*i/maxgen  #线性递减惯性权重\n",
    "    w = w0 - 0.4*(i/maxgen)**2 #递减惯性权重\n",
    "#     w = w0 - 0.4*(2*i/maxgen - (i/maxgen)**2) #递减惯性权重\n",
    "\n",
    "    #速度更新\n",
    "    for j in range(n):\n",
    "        v[j] = w*v[j] + lr[0]*np.random.rand()*(pBestPos[j]-pos[j])+lr[1]*np.random.rand()*(gBestPos-pos[j])\n",
    "    v[v<rangeV[0]] = rangeV[0]\n",
    "    v[v>rangeV[1]] = rangeV[1]\n",
    "\n",
    "    #粒子位置更新\n",
    "    for j in range(n):\n",
    "        pos[j] += v[j]\n",
    "    pos[pos<rangePos[0]] = rangePos[0]\n",
    "    pos[pos>rangePos[1]] = rangePos[1]\n",
    "\n",
    "    #适应度更新\n",
    "    for j in range(n):\n",
    "        fitness[j] = func(pos[j])\n",
    "\n",
    "    for j in range(n):\n",
    "        if fitness[j] > pBestFitness[j]:\n",
    "            pBestFitness[j] = fitness[j]\n",
    "            pBestPos[j] = pos[j].copy()\n",
    "\n",
    "    if pBestFitness.max() > gBestFitness:\n",
    "        gBestFitness = pBestFitness.max()\n",
    "        gBestPos = pos[pBestFitness.argmax()].copy()\n",
    "\n",
    "    result[i] = gBestFitness"
   ]
  },
  {
   "cell_type": "code",
   "execution_count": 148,
   "metadata": {},
   "outputs": [
    {
     "data": {
      "image/png": "[encoded data removed]",
      "text/plain": [
       "<Figure size 432x288 with 1 Axes>"
      ]
     },
     "metadata": {},
     "output_type": "display_data"
    }
   ],
   "source": [
    "plt.plot(result[:300])\n",
    "plt.show()"
   ]
  },
  {
   "cell_type": "code",
   "execution_count": 149,
   "metadata": {},
   "outputs": [
    {
     "data": {
      "text/plain": [
       "<matplotlib.collections.PathCollection at 0x1ee23264ba8>"
      ]
     },
     "execution_count": 149,
     "metadata": {},
     "output_type": "execute_result"
    },
    {
     "data": {
      "image/png": "[encoded data removed]",
      "text/plain": [
       "<Figure size 432x288 with 1 Axes>"
      ]
     },
     "metadata": {},
     "output_type": "display_data"
    }
   ],
   "source": [
    "plt.scatter(pos[:,0],pos[:,1])"
   ]
  },
  {
   "cell_type": "code",
   "execution_count": 150,
   "metadata": {},
   "outputs": [
    {
     "data": {
      "text/plain": [
       "(1.0053918284590453,\n",
       " 1.0053918284590453,\n",
       " array([3.64124891e-10, 7.39920213e-10]))"
      ]
     },
     "execution_count": 150,
     "metadata": {},
     "output_type": "execute_result"
    }
   ],
   "source": [
    "gBestFitness,pBestFitness.max(axis=0),gBestPos"
   ]
  },
  {
   "cell_type": "code",
   "execution_count": null,
   "metadata": {},
   "outputs": [],
   "source": []
  }
 ],
 "metadata": {
  "kernelspec": {
   "display_name": "Python 3",
   "language": "python",
   "name": "python3"
  },
  "language_info": {
   "codemirror_mode": {
    "name": "ipython",
    "version": 3
   },
   "file_extension": ".py",
   "mimetype": "text/x-python",
   "name": "python",
   "nbconvert_exporter": "python",
   "pygments_lexer": "ipython3",
   "version": "3.6.5"
  }
 },
 "nbformat": 4,
 "nbformat_minor": 2
}
